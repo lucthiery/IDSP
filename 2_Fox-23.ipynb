{
 "cells": [
  {
   "metadata": {},
   "cell_type": "markdown",
   "source": [
    "# Fox8-23 Dataset\n",
    "\n",
    "**Hard facts:**\n",
    "- Collection year: 2023\n",
    "- Domain: General Twitter/X accounts\n",
    "- Size: 2,280 accounts\n",
    "- Labels: *bot* vs *human* (gold, manually verified)\n",
    "- Features: account-level metadata, tweets, embeddings provided in the dataset\n",
    "\n",
    "**Description:**\n",
    "Fox8-23 was created at the Observatory on Social Media (OSoMe), Indiana University.\n",
    "It addresses the rise of **LLM-powered bots** on social platforms. Unlike BotArtist, Fox8-23 contains **human-verified ground truth labels** for each account, ensuring reliable evaluation.\n",
    "\n",
    "**Source:** [Zenodo](https://zenodo.org/record/10066202), [GitHub](https://github.com/osome-iu/AIBot_fox8)\n",
    "\n",
    "Though smaller than BotArtist, this dataset is valuable for:\n",
    "- Capturing **modern AI bot behaviors**.\n",
    "- Serving as a **benchmark for fine-tuning** models pretrained on large, weakly labeled datasets.\n",
    "- Providing **high-quality evaluation data** for bot detection systems.\n"
   ],
   "id": "eefa8b961140065a"
  },
  {
   "metadata": {
    "collapsed": true,
    "ExecuteTime": {
     "end_time": "2025-10-29T09:26:19.917543Z",
     "start_time": "2025-10-29T09:26:19.691873Z"
    }
   },
   "cell_type": "code",
   "source": [
    "import pandas as pd\n",
    "import numpy as np\n",
    "import matplotlib.pyplot as plt\n",
    "import seaborn as sns\n",
    "\n",
    "from pprint import pprint\n",
    "from sklearn.model_selection import train_test_split"
   ],
   "id": "913e22b2ba60a654",
   "outputs": [],
   "execution_count": 1
  },
  {
   "metadata": {
    "ExecuteTime": {
     "end_time": "2025-10-29T09:26:19.937471Z",
     "start_time": "2025-10-29T09:26:19.933148Z"
    }
   },
   "cell_type": "code",
   "source": [
    "import importlib\n",
    "from utils import data_prepping\n",
    "importlib.reload(data_prepping)\n",
    "\n",
    "from utils.data_prepping import plot_threshold, evaluate_model, plot_confusion"
   ],
   "id": "a06d3284ebd5fdd5",
   "outputs": [],
   "execution_count": 2
  },
  {
   "metadata": {},
   "cell_type": "markdown",
   "source": "## Data Loading",
   "id": "f215ca34ba28b3c1"
  },
  {
   "metadata": {
    "ExecuteTime": {
     "end_time": "2025-10-29T09:27:30.079641Z",
     "start_time": "2025-10-29T09:26:19.940937Z"
    }
   },
   "cell_type": "code",
   "source": [
    "path = \"data/2_Fox8-23/fox8_23_dataset.ndjson.gz\"\n",
    "df = pd.read_json(path, lines=True, compression=\"gzip\")\n"
   ],
   "id": "3c0c7be5956acc56",
   "outputs": [],
   "execution_count": 3
  },
  {
   "metadata": {
    "ExecuteTime": {
     "end_time": "2025-10-29T09:27:30.346076Z",
     "start_time": "2025-10-29T09:27:30.343594Z"
    }
   },
   "cell_type": "code",
   "source": "original = df.copy()",
   "id": "17c35fcf9b840b7b",
   "outputs": [],
   "execution_count": 4
  },
  {
   "metadata": {
    "ExecuteTime": {
     "end_time": "2025-10-29T09:27:30.655316Z",
     "start_time": "2025-10-29T09:27:30.375080Z"
    }
   },
   "cell_type": "code",
   "source": [
    "print(\"Shape of dataset:\", df.shape)\n",
    "df.head()"
   ],
   "id": "dda88e8233ad9729",
   "outputs": [
    {
     "name": "stdout",
     "output_type": "stream",
     "text": [
      "Shape of dataset: (2280, 4)\n"
     ]
    },
    {
     "data": {
      "text/plain": [
       "      user_id  label             dataset  \\\n",
       "0    16905397  human  botometer-feedback   \n",
       "1  2717053344  human  botometer-feedback   \n",
       "2   297051227  human  botometer-feedback   \n",
       "3   282275320  human  botometer-feedback   \n",
       "4  1663020151  human  botometer-feedback   \n",
       "\n",
       "                                         user_tweets  \n",
       "0  [{'contributors': None, 'truncated': True, 'te...  \n",
       "1  [{'contributors': None, 'truncated': False, 't...  \n",
       "2  [{'contributors': None, 'truncated': False, 't...  \n",
       "3  [{'contributors': None, 'truncated': False, 't...  \n",
       "4  [{'contributors': None, 'truncated': False, 't...  "
      ],
      "text/html": [
       "<div>\n",
       "<style scoped>\n",
       "    .dataframe tbody tr th:only-of-type {\n",
       "        vertical-align: middle;\n",
       "    }\n",
       "\n",
       "    .dataframe tbody tr th {\n",
       "        vertical-align: top;\n",
       "    }\n",
       "\n",
       "    .dataframe thead th {\n",
       "        text-align: right;\n",
       "    }\n",
       "</style>\n",
       "<table border=\"1\" class=\"dataframe\">\n",
       "  <thead>\n",
       "    <tr style=\"text-align: right;\">\n",
       "      <th></th>\n",
       "      <th>user_id</th>\n",
       "      <th>label</th>\n",
       "      <th>dataset</th>\n",
       "      <th>user_tweets</th>\n",
       "    </tr>\n",
       "  </thead>\n",
       "  <tbody>\n",
       "    <tr>\n",
       "      <th>0</th>\n",
       "      <td>16905397</td>\n",
       "      <td>human</td>\n",
       "      <td>botometer-feedback</td>\n",
       "      <td>[{'contributors': None, 'truncated': True, 'te...</td>\n",
       "    </tr>\n",
       "    <tr>\n",
       "      <th>1</th>\n",
       "      <td>2717053344</td>\n",
       "      <td>human</td>\n",
       "      <td>botometer-feedback</td>\n",
       "      <td>[{'contributors': None, 'truncated': False, 't...</td>\n",
       "    </tr>\n",
       "    <tr>\n",
       "      <th>2</th>\n",
       "      <td>297051227</td>\n",
       "      <td>human</td>\n",
       "      <td>botometer-feedback</td>\n",
       "      <td>[{'contributors': None, 'truncated': False, 't...</td>\n",
       "    </tr>\n",
       "    <tr>\n",
       "      <th>3</th>\n",
       "      <td>282275320</td>\n",
       "      <td>human</td>\n",
       "      <td>botometer-feedback</td>\n",
       "      <td>[{'contributors': None, 'truncated': False, 't...</td>\n",
       "    </tr>\n",
       "    <tr>\n",
       "      <th>4</th>\n",
       "      <td>1663020151</td>\n",
       "      <td>human</td>\n",
       "      <td>botometer-feedback</td>\n",
       "      <td>[{'contributors': None, 'truncated': False, 't...</td>\n",
       "    </tr>\n",
       "  </tbody>\n",
       "</table>\n",
       "</div>"
      ]
     },
     "execution_count": 5,
     "metadata": {},
     "output_type": "execute_result"
    }
   ],
   "execution_count": 5
  },
  {
   "metadata": {
    "ExecuteTime": {
     "end_time": "2025-10-29T09:27:30.679357Z",
     "start_time": "2025-10-29T09:27:30.677124Z"
    }
   },
   "cell_type": "code",
   "source": "print(df.columns)",
   "id": "bd6de1daa75b3791",
   "outputs": [
    {
     "name": "stdout",
     "output_type": "stream",
     "text": [
      "Index(['user_id', 'label', 'dataset', 'user_tweets'], dtype='object')\n"
     ]
    }
   ],
   "execution_count": 6
  },
  {
   "metadata": {
    "ExecuteTime": {
     "end_time": "2025-10-29T09:27:30.764467Z",
     "start_time": "2025-10-29T09:27:30.738075Z"
    }
   },
   "cell_type": "code",
   "source": [
    "row_idx = 10  # index of row\n",
    "tweets_list = df.at[row_idx, 'user_tweets']\n",
    "\n",
    "print(f\"Inspecting row {row_idx} | user_id={df.at[row_idx,'user_id']} | label={df.at[row_idx,'label']}\")\n",
    "print(f\"Number of tweets in this list: {len(tweets_list)}\\n\")\n",
    "\n",
    "# 2) Show the first tweet dict, pretty\n",
    "print(\"First tweet dict (pretty):\")\n",
    "pprint(tweets_list[0], width=100)\n",
    "print(\"--------\"*18)\n",
    "# 3) Show just the top-level keys to understand the fields available\n",
    "print(\"\\nKeys in first tweet:\", list(tweets_list[0].keys()))\n",
    "\n",
    "# 4) (Optional) Union of keys across the first N tweets to see variability\n",
    "N = min(10, len(tweets_list))\n",
    "keys_union = set().union(*[t.keys() for t in tweets_list[:N]])\n",
    "print(f\"\\nUnion of keys across first {N} tweets:\", sorted(keys_union))\n",
    "\n",
    "# 5) (Optional) Turn that tweet list into a small flat dataframe view\n",
    "flat = pd.json_normalize(tweets_list, sep='.')\n",
    "display(flat.head(2))\n"
   ],
   "id": "16477d46edaa0da9",
   "outputs": [
    {
     "name": "stdout",
     "output_type": "stream",
     "text": [
      "Inspecting row 10 | user_id=804681 | label=human\n",
      "Number of tweets in this list: 200\n",
      "\n",
      "First tweet dict (pretty):\n",
      "{'contributors': None,\n",
      " 'coordinates': None,\n",
      " 'created_at': 'Mon Apr 16 21:51:55 +0000 2018',\n",
      " 'entities': {'hashtags': [],\n",
      "              'symbols': [],\n",
      "              'urls': [{'display_url': 'twitter.com/i/web/status/9…',\n",
      "                        'expanded_url': 'https://twitter.com/i/web/status/985999253595140097',\n",
      "                        'indices': [117, 140],\n",
      "                        'url': 'https://t.co/IaLKn3dkK4'}],\n",
      "              'user_mentions': [{'id': 20793816,\n",
      "                                 'id_str': '20793816',\n",
      "                                 'indices': [3, 10],\n",
      "                                 'name': 'Amazon.com',\n",
      "                                 'screen_name': 'amazon'}]},\n",
      " 'favorite_count': 1,\n",
      " 'favorited': False,\n",
      " 'geo': None,\n",
      " 'id': 985999253595140097,\n",
      " 'id_str': '985999253595140097',\n",
      " 'in_reply_to_screen_name': None,\n",
      " 'in_reply_to_status_id': None,\n",
      " 'in_reply_to_status_id_str': None,\n",
      " 'in_reply_to_user_id': None,\n",
      " 'in_reply_to_user_id_str': None,\n",
      " 'is_quote_status': False,\n",
      " 'lang': 'en',\n",
      " 'place': None,\n",
      " 'retweet_count': 0,\n",
      " 'retweeted': False,\n",
      " 'source': '<a href=\"http://www.hootsuite.com\" rel=\"nofollow\">Hootsuite</a>',\n",
      " 'text': \"Yo @amazon, why don't you start using reusable/returnable boxes for Prime deliveries? \"\n",
      "         'Could require a deposit on co… https://t.co/IaLKn3dkK4',\n",
      " 'truncated': True,\n",
      " 'user': {'contributors_enabled': False,\n",
      "          'created_at': 'Thu Mar 01 23:17:53 +0000 2007',\n",
      "          'default_profile': False,\n",
      "          'default_profile_image': False,\n",
      "          'description': 'Father. Husband. Online Marketer.',\n",
      "          'entities': {'description': {'urls': []},\n",
      "                       'url': {'urls': [{'display_url': 'sethnickerson.com',\n",
      "                                         'expanded_url': 'http://www.sethnickerson.com',\n",
      "                                         'indices': [0, 22],\n",
      "                                         'url': 'http://t.co/iTEC0hF6Qc'}]}},\n",
      "          'favourites_count': 1,\n",
      "          'follow_request_sent': False,\n",
      "          'followers_count': 241,\n",
      "          'following': False,\n",
      "          'friends_count': 118,\n",
      "          'geo_enabled': False,\n",
      "          'has_extended_profile': False,\n",
      "          'id': 804681,\n",
      "          'id_str': '804681',\n",
      "          'is_translation_enabled': False,\n",
      "          'is_translator': False,\n",
      "          'lang': 'en',\n",
      "          'listed_count': 13,\n",
      "          'location': 'Scottsdale, AZ',\n",
      "          'name': 'Seth Nickerson',\n",
      "          'notifications': False,\n",
      "          'profile_background_color': '6B6463',\n",
      "          'profile_background_image_url': 'http://pbs.twimg.com/profile_background_images/65013650/twitter_background3.jpg',\n",
      "          'profile_background_image_url_https': 'https://pbs.twimg.com/profile_background_images/65013650/twitter_background3.jpg',\n",
      "          'profile_background_tile': False,\n",
      "          'profile_image_url': 'http://pbs.twimg.com/profile_images/849280628793024513/AvMVd1-z_normal.jpg',\n",
      "          'profile_image_url_https': 'https://pbs.twimg.com/profile_images/849280628793024513/AvMVd1-z_normal.jpg',\n",
      "          'profile_link_color': '05417D',\n",
      "          'profile_sidebar_border_color': 'C9D9B2',\n",
      "          'profile_sidebar_fill_color': 'FF850A',\n",
      "          'profile_text_color': '000000',\n",
      "          'profile_use_background_image': True,\n",
      "          'protected': False,\n",
      "          'screen_name': 'SethNickerson',\n",
      "          'statuses_count': 1657,\n",
      "          'time_zone': 'Arizona',\n",
      "          'translator_type': 'none',\n",
      "          'url': 'http://t.co/iTEC0hF6Qc',\n",
      "          'utc_offset': -25200,\n",
      "          'verified': False}}\n",
      "------------------------------------------------------------------------------------------------------------------------------------------------\n",
      "\n",
      "Keys in first tweet: ['contributors', 'truncated', 'text', 'is_quote_status', 'in_reply_to_status_id', 'id', 'favorite_count', 'source', 'retweeted', 'coordinates', 'entities', 'in_reply_to_screen_name', 'in_reply_to_user_id', 'retweet_count', 'id_str', 'favorited', 'user', 'geo', 'in_reply_to_user_id_str', 'lang', 'created_at', 'in_reply_to_status_id_str', 'place']\n",
      "\n",
      "Union of keys across first 10 tweets: ['contributors', 'coordinates', 'created_at', 'entities', 'favorite_count', 'favorited', 'geo', 'id', 'id_str', 'in_reply_to_screen_name', 'in_reply_to_status_id', 'in_reply_to_status_id_str', 'in_reply_to_user_id', 'in_reply_to_user_id_str', 'is_quote_status', 'lang', 'place', 'possibly_sensitive', 'retweet_count', 'retweeted', 'retweeted_status', 'source', 'text', 'truncated', 'user']\n"
     ]
    },
    {
     "data": {
      "text/plain": [
       "  contributors  truncated                                               text  \\\n",
       "0         None       True  Yo @amazon, why don't you start using reusable...   \n",
       "1         None       True  PSA: Beware of advice from the \"guru\", self-he...   \n",
       "\n",
       "   is_quote_status  in_reply_to_status_id                  id  favorite_count  \\\n",
       "0            False                    NaN  985999253595140097               1   \n",
       "1            False                    NaN  984191467014049794               1   \n",
       "\n",
       "                                              source  retweeted coordinates  \\\n",
       "0  <a href=\"http://www.hootsuite.com\" rel=\"nofoll...      False        None   \n",
       "1  <a href=\"http://www.hootsuite.com\" rel=\"nofoll...      False        None   \n",
       "\n",
       "   ... retweeted_status.quoted_status.in_reply_to_user_id_str  \\\n",
       "0  ...                                                NaN       \n",
       "1  ...                                                NaN       \n",
       "\n",
       "   retweeted_status.quoted_status.possibly_sensitive  \\\n",
       "0                                                NaN   \n",
       "1                                                NaN   \n",
       "\n",
       "   retweeted_status.quoted_status.lang  \\\n",
       "0                                  NaN   \n",
       "1                                  NaN   \n",
       "\n",
       "  retweeted_status.quoted_status.created_at  \\\n",
       "0                                       NaN   \n",
       "1                                       NaN   \n",
       "\n",
       "   retweeted_status.quoted_status.in_reply_to_status_id_str  \\\n",
       "0                                                NaN          \n",
       "1                                                NaN          \n",
       "\n",
       "  retweeted_status.quoted_status.place  \\\n",
       "0                                  NaN   \n",
       "1                                  NaN   \n",
       "\n",
       "  retweeted_status.quoted_status.extended_entities.media  \\\n",
       "0                                                NaN       \n",
       "1                                                NaN       \n",
       "\n",
       "  retweeted_status.quoted_status_id_str quoted_status.entities.media  \\\n",
       "0                                   NaN                          NaN   \n",
       "1                                   NaN                          NaN   \n",
       "\n",
       "  quoted_status.extended_entities.media  \n",
       "0                                   NaN  \n",
       "1                                   NaN  \n",
       "\n",
       "[2 rows x 287 columns]"
      ],
      "text/html": [
       "<div>\n",
       "<style scoped>\n",
       "    .dataframe tbody tr th:only-of-type {\n",
       "        vertical-align: middle;\n",
       "    }\n",
       "\n",
       "    .dataframe tbody tr th {\n",
       "        vertical-align: top;\n",
       "    }\n",
       "\n",
       "    .dataframe thead th {\n",
       "        text-align: right;\n",
       "    }\n",
       "</style>\n",
       "<table border=\"1\" class=\"dataframe\">\n",
       "  <thead>\n",
       "    <tr style=\"text-align: right;\">\n",
       "      <th></th>\n",
       "      <th>contributors</th>\n",
       "      <th>truncated</th>\n",
       "      <th>text</th>\n",
       "      <th>is_quote_status</th>\n",
       "      <th>in_reply_to_status_id</th>\n",
       "      <th>id</th>\n",
       "      <th>favorite_count</th>\n",
       "      <th>source</th>\n",
       "      <th>retweeted</th>\n",
       "      <th>coordinates</th>\n",
       "      <th>...</th>\n",
       "      <th>retweeted_status.quoted_status.in_reply_to_user_id_str</th>\n",
       "      <th>retweeted_status.quoted_status.possibly_sensitive</th>\n",
       "      <th>retweeted_status.quoted_status.lang</th>\n",
       "      <th>retweeted_status.quoted_status.created_at</th>\n",
       "      <th>retweeted_status.quoted_status.in_reply_to_status_id_str</th>\n",
       "      <th>retweeted_status.quoted_status.place</th>\n",
       "      <th>retweeted_status.quoted_status.extended_entities.media</th>\n",
       "      <th>retweeted_status.quoted_status_id_str</th>\n",
       "      <th>quoted_status.entities.media</th>\n",
       "      <th>quoted_status.extended_entities.media</th>\n",
       "    </tr>\n",
       "  </thead>\n",
       "  <tbody>\n",
       "    <tr>\n",
       "      <th>0</th>\n",
       "      <td>None</td>\n",
       "      <td>True</td>\n",
       "      <td>Yo @amazon, why don't you start using reusable...</td>\n",
       "      <td>False</td>\n",
       "      <td>NaN</td>\n",
       "      <td>985999253595140097</td>\n",
       "      <td>1</td>\n",
       "      <td>&lt;a href=\"http://www.hootsuite.com\" rel=\"nofoll...</td>\n",
       "      <td>False</td>\n",
       "      <td>None</td>\n",
       "      <td>...</td>\n",
       "      <td>NaN</td>\n",
       "      <td>NaN</td>\n",
       "      <td>NaN</td>\n",
       "      <td>NaN</td>\n",
       "      <td>NaN</td>\n",
       "      <td>NaN</td>\n",
       "      <td>NaN</td>\n",
       "      <td>NaN</td>\n",
       "      <td>NaN</td>\n",
       "      <td>NaN</td>\n",
       "    </tr>\n",
       "    <tr>\n",
       "      <th>1</th>\n",
       "      <td>None</td>\n",
       "      <td>True</td>\n",
       "      <td>PSA: Beware of advice from the \"guru\", self-he...</td>\n",
       "      <td>False</td>\n",
       "      <td>NaN</td>\n",
       "      <td>984191467014049794</td>\n",
       "      <td>1</td>\n",
       "      <td>&lt;a href=\"http://www.hootsuite.com\" rel=\"nofoll...</td>\n",
       "      <td>False</td>\n",
       "      <td>None</td>\n",
       "      <td>...</td>\n",
       "      <td>NaN</td>\n",
       "      <td>NaN</td>\n",
       "      <td>NaN</td>\n",
       "      <td>NaN</td>\n",
       "      <td>NaN</td>\n",
       "      <td>NaN</td>\n",
       "      <td>NaN</td>\n",
       "      <td>NaN</td>\n",
       "      <td>NaN</td>\n",
       "      <td>NaN</td>\n",
       "    </tr>\n",
       "  </tbody>\n",
       "</table>\n",
       "<p>2 rows × 287 columns</p>\n",
       "</div>"
      ]
     },
     "metadata": {},
     "output_type": "display_data",
     "jetTransient": {
      "display_id": null
     }
    }
   ],
   "execution_count": 7
  },
  {
   "metadata": {},
   "cell_type": "markdown",
   "source": "## EDA",
   "id": "11840504fa833cd2"
  },
  {
   "metadata": {
    "ExecuteTime": {
     "end_time": "2025-10-29T09:27:31.239257Z",
     "start_time": "2025-10-29T09:27:31.097055Z"
    }
   },
   "cell_type": "code",
   "source": [
    "# --- 1. Label distribution ---\n",
    "print(\"Label counts:\")\n",
    "print(df['label'].value_counts())\n",
    "print(\"\\nLabel proportions:\")\n",
    "print(df['label'].value_counts(normalize=True))\n",
    "\n",
    "plt.figure(figsize=(5,4))\n",
    "df['label'].value_counts().plot(kind='bar', rot=0, color=['#2E86C1', '#C0392B'])\n",
    "plt.title('Humans vs Bots')\n",
    "plt.xlabel('Label')\n",
    "plt.ylabel('Count')\n",
    "plt.grid(axis='y', linestyle='--', alpha=0.6)\n",
    "plt.show()\n",
    "\n",
    "# --- 2. Dataset composition ---\n",
    "plt.figure(figsize=(6,4))\n",
    "df['dataset'].value_counts().plot(kind='bar', rot=45, color='#7D3C98')\n",
    "plt.title('Distribution of Dataset Sources')\n",
    "plt.xlabel('Dataset')\n",
    "plt.ylabel('Count')\n",
    "plt.grid(axis='y', linestyle='--', alpha=0.6)\n",
    "plt.show()\n"
   ],
   "id": "b0ce3a336671370c",
   "outputs": [
    {
     "name": "stdout",
     "output_type": "stream",
     "text": [
      "Label counts:\n",
      "label\n",
      "human    1140\n",
      "bot      1140\n",
      "Name: count, dtype: int64\n",
      "\n",
      "Label proportions:\n",
      "label\n",
      "human    0.5\n",
      "bot      0.5\n",
      "Name: proportion, dtype: float64\n"
     ]
    },
    {
     "data": {
      "text/plain": [
       "<Figure size 500x400 with 1 Axes>"
      ],
      "image/png": "[encoded data removed]"
     },
     "metadata": {},
     "output_type": "display_data",
     "jetTransient": {
      "display_id": null
     }
    },
    {
     "data": {
      "text/plain": [
       "<Figure size 600x400 with 1 Axes>"
      ],
      "image/png": "[encoded data removed]"
     },
     "metadata": {},
     "output_type": "display_data",
     "jetTransient": {
      "display_id": null
     }
    }
   ],
   "execution_count": 8
  },
  {
   "metadata": {
    "ExecuteTime": {
     "end_time": "2025-10-29T09:27:31.412954Z",
     "start_time": "2025-10-29T09:27:31.271119Z"
    }
   },
   "cell_type": "code",
   "source": [
    "# --- 1. Add number_of_tweets column ---\n",
    "df['number_of_tweets'] = df['user_tweets'].apply(lambda x: len(x) if isinstance(x, list) else 0)\n",
    "\n",
    "print(\"Number of tweets per user — summary stats:\")\n",
    "print(df['number_of_tweets'].describe(percentiles=[.25, .5, .75, .9, .95, .99]))\n",
    "\n",
    "# --- 2. Plot histogram ---\n",
    "plt.figure(figsize=(7,4))\n",
    "df['number_of_tweets'].hist(bins=50, color='#1F77B4', edgecolor='black')\n",
    "plt.title('Distribution of Number of Tweets per User')\n",
    "plt.xlabel('Number of Tweets')\n",
    "plt.ylabel('User Count')\n",
    "plt.grid(axis='y', linestyle='--', alpha=0.6)\n",
    "plt.show()\n",
    "\n",
    "# --- 3. Compare by label (humans vs bots) ---\n",
    "plt.figure(figsize=(7,4))\n",
    "df.groupby('label')['number_of_tweets'].plot(\n",
    "    kind='hist',\n",
    "    bins=40,\n",
    "    alpha=0.6,\n",
    "    legend=True,\n",
    "    density=True\n",
    ")\n",
    "plt.title('Tweet Count Distribution by Label')\n",
    "plt.xlabel('Number of Tweets')\n",
    "plt.ylabel('Density')\n",
    "plt.grid(axis='y', linestyle='--', alpha=0.6)\n",
    "plt.show()"
   ],
   "id": "a84c347772adf094",
   "outputs": [
    {
     "name": "stdout",
     "output_type": "stream",
     "text": [
      "Number of tweets per user — summary stats:\n",
      "count    2280.000000\n",
      "mean      161.415789\n",
      "std        49.700992\n",
      "min         1.000000\n",
      "25%       123.000000\n",
      "50%       195.000000\n",
      "75%       200.000000\n",
      "90%       200.000000\n",
      "95%       200.000000\n",
      "99%       200.000000\n",
      "max       211.000000\n",
      "Name: number_of_tweets, dtype: float64\n"
     ]
    },
    {
     "data": {
      "text/plain": [
       "<Figure size 700x400 with 1 Axes>"
      ],
      "image/png": "[encoded data removed]"
     },
     "metadata": {},
     "output_type": "display_data",
     "jetTransient": {
      "display_id": null
     }
    },
    {
     "data": {
      "text/plain": [
       "<Figure size 700x400 with 1 Axes>"
      ],
      "image/png": "[encoded data removed]"
     },
     "metadata": {},
     "output_type": "display_data",
     "jetTransient": {
      "display_id": null
     }
    }
   ],
   "execution_count": 9
  },
  {
   "metadata": {
    "ExecuteTime": {
     "end_time": "2025-10-29T09:27:31.692813Z",
     "start_time": "2025-10-29T09:27:31.418843Z"
    }
   },
   "cell_type": "code",
   "source": "df.head(5)",
   "id": "e89a1d5cdb906f5b",
   "outputs": [
    {
     "data": {
      "text/plain": [
       "      user_id  label             dataset  \\\n",
       "0    16905397  human  botometer-feedback   \n",
       "1  2717053344  human  botometer-feedback   \n",
       "2   297051227  human  botometer-feedback   \n",
       "3   282275320  human  botometer-feedback   \n",
       "4  1663020151  human  botometer-feedback   \n",
       "\n",
       "                                         user_tweets  number_of_tweets  \n",
       "0  [{'contributors': None, 'truncated': True, 'te...               200  \n",
       "1  [{'contributors': None, 'truncated': False, 't...               197  \n",
       "2  [{'contributors': None, 'truncated': False, 't...               200  \n",
       "3  [{'contributors': None, 'truncated': False, 't...               200  \n",
       "4  [{'contributors': None, 'truncated': False, 't...               199  "
      ],
      "text/html": [
       "<div>\n",
       "<style scoped>\n",
       "    .dataframe tbody tr th:only-of-type {\n",
       "        vertical-align: middle;\n",
       "    }\n",
       "\n",
       "    .dataframe tbody tr th {\n",
       "        vertical-align: top;\n",
       "    }\n",
       "\n",
       "    .dataframe thead th {\n",
       "        text-align: right;\n",
       "    }\n",
       "</style>\n",
       "<table border=\"1\" class=\"dataframe\">\n",
       "  <thead>\n",
       "    <tr style=\"text-align: right;\">\n",
       "      <th></th>\n",
       "      <th>user_id</th>\n",
       "      <th>label</th>\n",
       "      <th>dataset</th>\n",
       "      <th>user_tweets</th>\n",
       "      <th>number_of_tweets</th>\n",
       "    </tr>\n",
       "  </thead>\n",
       "  <tbody>\n",
       "    <tr>\n",
       "      <th>0</th>\n",
       "      <td>16905397</td>\n",
       "      <td>human</td>\n",
       "      <td>botometer-feedback</td>\n",
       "      <td>[{'contributors': None, 'truncated': True, 'te...</td>\n",
       "      <td>200</td>\n",
       "    </tr>\n",
       "    <tr>\n",
       "      <th>1</th>\n",
       "      <td>2717053344</td>\n",
       "      <td>human</td>\n",
       "      <td>botometer-feedback</td>\n",
       "      <td>[{'contributors': None, 'truncated': False, 't...</td>\n",
       "      <td>197</td>\n",
       "    </tr>\n",
       "    <tr>\n",
       "      <th>2</th>\n",
       "      <td>297051227</td>\n",
       "      <td>human</td>\n",
       "      <td>botometer-feedback</td>\n",
       "      <td>[{'contributors': None, 'truncated': False, 't...</td>\n",
       "      <td>200</td>\n",
       "    </tr>\n",
       "    <tr>\n",
       "      <th>3</th>\n",
       "      <td>282275320</td>\n",
       "      <td>human</td>\n",
       "      <td>botometer-feedback</td>\n",
       "      <td>[{'contributors': None, 'truncated': False, 't...</td>\n",
       "      <td>200</td>\n",
       "    </tr>\n",
       "    <tr>\n",
       "      <th>4</th>\n",
       "      <td>1663020151</td>\n",
       "      <td>human</td>\n",
       "      <td>botometer-feedback</td>\n",
       "      <td>[{'contributors': None, 'truncated': False, 't...</td>\n",
       "      <td>199</td>\n",
       "    </tr>\n",
       "  </tbody>\n",
       "</table>\n",
       "</div>"
      ]
     },
     "execution_count": 10,
     "metadata": {},
     "output_type": "execute_result"
    }
   ],
   "execution_count": 10
  },
  {
   "metadata": {
    "ExecuteTime": {
     "end_time": "2025-10-29T09:28:47.740286Z",
     "start_time": "2025-10-29T09:27:31.749280Z"
    }
   },
   "cell_type": "code",
   "source": [
    "UTC_NOW = pd.Timestamp.now(tz=\"UTC\")\n",
    "_FAST_FORMATS = [\"%Y-%m-%dT%H:%M:%S.%fZ\", \"%Y-%m-%dT%H:%M:%SZ\"]\n",
    "\n",
    "def _parse_iso_fast(s: str):\n",
    "    for fmt in _FAST_FORMATS:\n",
    "        try:  # try exact ISO formats first (fast + quiet)\n",
    "            return pd.to_datetime(s, format=fmt, utc=True)\n",
    "        except Exception:\n",
    "            pass\n",
    "    return pd.to_datetime(s, errors=\"coerce\", utc=True)  # generic safe fallback\n",
    "\n",
    "def parse_created_at(val):\n",
    "    \"\"\"Return tz-aware UTC Timestamp or NaT from mixed formats (ISO/epoch).\"\"\"\n",
    "    if val is None:\n",
    "        return pd.NaT\n",
    "    if isinstance(val, (int, float)):  # epoch seconds/millis\n",
    "        if val > 1e12:\n",
    "            return pd.to_datetime(val, unit=\"ms\", utc=True, errors=\"coerce\")\n",
    "        if val > 1e9:\n",
    "            return pd.to_datetime(val, unit=\"s\",  utc=True, errors=\"coerce\")\n",
    "        return pd.NaT\n",
    "    if isinstance(val, str):\n",
    "        return _parse_iso_fast(val)\n",
    "    return pd.NaT\n",
    "\n",
    "# ---- single parser for one user's tweets ----\n",
    "def parse_user_tweets(tweet_list):\n",
    "    \"\"\"\n",
    "    Input: list[dict] (tweets for a user)\n",
    "    Output: pd.Series with parsed signals (no plotting)\n",
    "    \"\"\"\n",
    "    if not isinstance(tweet_list, list) or len(tweet_list) == 0:\n",
    "        return pd.Series({\n",
    "            \"number_of_tweets\": 0,\n",
    "            \"first_tweet_date\": pd.NaT,\n",
    "            \"last_tweet_date\":  pd.NaT,\n",
    "            \"account_age_days\": np.nan,\n",
    "            \"span_days\": 0.0,\n",
    "            \"tweets_per_day\": 0.0,\n",
    "            \"avg_len\": 0.0,\n",
    "            \"median_len\": 0.0,\n",
    "            \"frac_has_url\": 0.0,\n",
    "            \"frac_has_hashtag\": 0.0,\n",
    "            \"frac_has_mention\": 0.0,\n",
    "            \"frac_retweet\": 0.0,\n",
    "            \"frac_reply\": 0.0,\n",
    "        })\n",
    "\n",
    "# dates (tz-aware)----------------------\n",
    "    dts = [parse_created_at(t.get(\"created_at\")) for t in tweet_list if isinstance(t, dict)]\n",
    "    dts = [d for d in dts if pd.notna(d)]\n",
    "\n",
    "    if len(dts):\n",
    "        first_dt = min(dts)\n",
    "        last_dt  = max(dts)\n",
    "        age_days = float((UTC_NOW - first_dt).total_seconds() / 86400.0)\n",
    "        span_days = float((last_dt - first_dt).total_seconds() / 86400.0)\n",
    "        if span_days <= 0:\n",
    "            span_days = 1.0  # avoid div-by-zero\n",
    "    else:\n",
    "        first_dt = last_dt = pd.NaT\n",
    "        age_days = np.nan\n",
    "        span_days = 1.0\n",
    "\n",
    "    n = len(tweet_list)\n",
    "    tweets_per_day = n / span_days if span_days > 0 else 0.0\n",
    "\n",
    "# text lengths---------------------------\n",
    "    texts = [str(t.get(\"text\", \"\")) for t in tweet_list if isinstance(t, dict)]\n",
    "    lens = np.array([len(s) for s in texts], dtype=float) if texts else np.array([0.0])\n",
    "    avg_len = float(lens.mean()) if lens.size else 0.0\n",
    "    median_len = float(np.median(lens)) if lens.size else 0.0\n",
    "\n",
    "\n",
    "# simple flags---------------------------\n",
    "    has_url     = [bool((t.get(\"entities\", {}) or {}).get(\"urls\")) or (\"http\" in str(t.get(\"text\",\"\"))) for t in tweet_list]\n",
    "    has_hashtag = [bool((t.get(\"entities\", {}) or {}).get(\"hashtags\")) or (\"#\" in str(t.get(\"text\",\"\"))) for t in tweet_list]\n",
    "    has_mention = [bool((t.get(\"entities\", {}) or {}).get(\"mentions\")) or (\"@\" in str(t.get(\"text\",\"\"))) for t in tweet_list]\n",
    "    is_retweet  = [ (isinstance(t.get(\"referenced_tweets\"), list) and len(t[\"referenced_tweets\"])>0 and t[\"referenced_tweets\"][0].get(\"type\")==\"retweeted\") for t in tweet_list ]\n",
    "    is_reply    = [ t.get(\"in_reply_to_user_id\") is not None for t in tweet_list ]\n",
    "\n",
    "    frac = lambda arr: float(np.mean(arr)) if len(arr) else 0.0\n",
    "\n",
    "    return pd.Series({\n",
    "        \"number_of_tweets\": n,\n",
    "        \"first_tweet_date\": first_dt,\n",
    "        \"last_tweet_date\":  last_dt,\n",
    "        \"account_age_days\": age_days,\n",
    "        \"span_days\": span_days,\n",
    "        \"tweets_per_day\": tweets_per_day,\n",
    "        \"avg_len\": avg_len,\n",
    "        \"median_len\": median_len,\n",
    "        \"frac_has_url\": frac(has_url),\n",
    "        \"frac_has_hashtag\": frac(has_hashtag),\n",
    "        \"frac_has_mention\": frac(has_mention),\n",
    "        \"frac_retweet\": frac(is_retweet),\n",
    "        \"frac_reply\": frac(is_reply),\n",
    "    })\n",
    "\n",
    "# ----\n",
    "#df = original.copy()\n",
    "parsed = df[\"user_tweets\"].apply(parse_user_tweets)\n",
    "df = pd.concat([df, parsed], axis=1)\n",
    "\n",
    "df.head(3)\n"
   ],
   "id": "fdf445e78338db94",
   "outputs": [
    {
     "data": {
      "text/plain": [
       "      user_id  label             dataset  \\\n",
       "0    16905397  human  botometer-feedback   \n",
       "1  2717053344  human  botometer-feedback   \n",
       "2   297051227  human  botometer-feedback   \n",
       "\n",
       "                                         user_tweets  number_of_tweets  \\\n",
       "0  [{'contributors': None, 'truncated': True, 'te...               200   \n",
       "1  [{'contributors': None, 'truncated': False, 't...               197   \n",
       "2  [{'contributors': None, 'truncated': False, 't...               200   \n",
       "\n",
       "   number_of_tweets          first_tweet_date           last_tweet_date  \\\n",
       "0               200 2018-04-10 18:45:00+00:00 2018-04-18 14:09:01+00:00   \n",
       "1               197 2015-04-01 18:26:50+00:00 2018-04-01 18:09:12+00:00   \n",
       "2               200 2015-09-28 09:26:28+00:00 2018-04-15 22:14:37+00:00   \n",
       "\n",
       "   account_age_days    span_days  tweets_per_day     avg_len  median_len  \\\n",
       "0       2758.612868     7.808345       25.613623  122.445000       139.0   \n",
       "1       3863.625483  1095.987755        0.179747   94.507614        90.0   \n",
       "2       3684.000738   930.533437        0.214930  116.360000       129.5   \n",
       "\n",
       "   frac_has_url  frac_has_hashtag  frac_has_mention  frac_retweet  frac_reply  \n",
       "0      0.455000          0.675000          0.700000           0.0    0.165000  \n",
       "1      0.380711          0.294416          0.939086           0.0    0.461929  \n",
       "2      0.730000          0.145000          0.750000           0.0    0.210000  "
      ],
      "text/html": [
       "<div>\n",
       "<style scoped>\n",
       "    .dataframe tbody tr th:only-of-type {\n",
       "        vertical-align: middle;\n",
       "    }\n",
       "\n",
       "    .dataframe tbody tr th {\n",
       "        vertical-align: top;\n",
       "    }\n",
       "\n",
       "    .dataframe thead th {\n",
       "        text-align: right;\n",
       "    }\n",
       "</style>\n",
       "<table border=\"1\" class=\"dataframe\">\n",
       "  <thead>\n",
       "    <tr style=\"text-align: right;\">\n",
       "      <th></th>\n",
       "      <th>user_id</th>\n",
       "      <th>label</th>\n",
       "      <th>dataset</th>\n",
       "      <th>user_tweets</th>\n",
       "      <th>number_of_tweets</th>\n",
       "      <th>number_of_tweets</th>\n",
       "      <th>first_tweet_date</th>\n",
       "      <th>last_tweet_date</th>\n",
       "      <th>account_age_days</th>\n",
       "      <th>span_days</th>\n",
       "      <th>tweets_per_day</th>\n",
       "      <th>avg_len</th>\n",
       "      <th>median_len</th>\n",
       "      <th>frac_has_url</th>\n",
       "      <th>frac_has_hashtag</th>\n",
       "      <th>frac_has_mention</th>\n",
       "      <th>frac_retweet</th>\n",
       "      <th>frac_reply</th>\n",
       "    </tr>\n",
       "  </thead>\n",
       "  <tbody>\n",
       "    <tr>\n",
       "      <th>0</th>\n",
       "      <td>16905397</td>\n",
       "      <td>human</td>\n",
       "      <td>botometer-feedback</td>\n",
       "      <td>[{'contributors': None, 'truncated': True, 'te...</td>\n",
       "      <td>200</td>\n",
       "      <td>200</td>\n",
       "      <td>2018-04-10 18:45:00+00:00</td>\n",
       "      <td>2018-04-18 14:09:01+00:00</td>\n",
       "      <td>2758.612868</td>\n",
       "      <td>7.808345</td>\n",
       "      <td>25.613623</td>\n",
       "      <td>122.445000</td>\n",
       "      <td>139.0</td>\n",
       "      <td>0.455000</td>\n",
       "      <td>0.675000</td>\n",
       "      <td>0.700000</td>\n",
       "      <td>0.0</td>\n",
       "      <td>0.165000</td>\n",
       "    </tr>\n",
       "    <tr>\n",
       "      <th>1</th>\n",
       "      <td>2717053344</td>\n",
       "      <td>human</td>\n",
       "      <td>botometer-feedback</td>\n",
       "      <td>[{'contributors': None, 'truncated': False, 't...</td>\n",
       "      <td>197</td>\n",
       "      <td>197</td>\n",
       "      <td>2015-04-01 18:26:50+00:00</td>\n",
       "      <td>2018-04-01 18:09:12+00:00</td>\n",
       "      <td>3863.625483</td>\n",
       "      <td>1095.987755</td>\n",
       "      <td>0.179747</td>\n",
       "      <td>94.507614</td>\n",
       "      <td>90.0</td>\n",
       "      <td>0.380711</td>\n",
       "      <td>0.294416</td>\n",
       "      <td>0.939086</td>\n",
       "      <td>0.0</td>\n",
       "      <td>0.461929</td>\n",
       "    </tr>\n",
       "    <tr>\n",
       "      <th>2</th>\n",
       "      <td>297051227</td>\n",
       "      <td>human</td>\n",
       "      <td>botometer-feedback</td>\n",
       "      <td>[{'contributors': None, 'truncated': False, 't...</td>\n",
       "      <td>200</td>\n",
       "      <td>200</td>\n",
       "      <td>2015-09-28 09:26:28+00:00</td>\n",
       "      <td>2018-04-15 22:14:37+00:00</td>\n",
       "      <td>3684.000738</td>\n",
       "      <td>930.533437</td>\n",
       "      <td>0.214930</td>\n",
       "      <td>116.360000</td>\n",
       "      <td>129.5</td>\n",
       "      <td>0.730000</td>\n",
       "      <td>0.145000</td>\n",
       "      <td>0.750000</td>\n",
       "      <td>0.0</td>\n",
       "      <td>0.210000</td>\n",
       "    </tr>\n",
       "  </tbody>\n",
       "</table>\n",
       "</div>"
      ]
     },
     "execution_count": 11,
     "metadata": {},
     "output_type": "execute_result"
    }
   ],
   "execution_count": 11
  },
  {
   "metadata": {
    "ExecuteTime": {
     "end_time": "2025-10-29T09:28:48.607135Z",
     "start_time": "2025-10-29T09:28:48.604719Z"
    }
   },
   "cell_type": "code",
   "source": "df.columns",
   "id": "593424e3f1412dec",
   "outputs": [
    {
     "data": {
      "text/plain": [
       "Index(['user_id', 'label', 'dataset', 'user_tweets', 'number_of_tweets',\n",
       "       'number_of_tweets', 'first_tweet_date', 'last_tweet_date',\n",
       "       'account_age_days', 'span_days', 'tweets_per_day', 'avg_len',\n",
       "       'median_len', 'frac_has_url', 'frac_has_hashtag', 'frac_has_mention',\n",
       "       'frac_retweet', 'frac_reply'],\n",
       "      dtype='object')"
      ]
     },
     "execution_count": 12,
     "metadata": {},
     "output_type": "execute_result"
    }
   ],
   "execution_count": 12
  },
  {
   "metadata": {
    "ExecuteTime": {
     "end_time": "2025-10-29T09:28:48.617678Z",
     "start_time": "2025-10-29T09:28:48.613449Z"
    }
   },
   "cell_type": "code",
   "source": "df[[\"number_of_tweets\",\"span_days\",\"tweets_per_day\"]].head()",
   "id": "29436597a70c7d86",
   "outputs": [
    {
     "data": {
      "text/plain": [
       "   number_of_tweets  number_of_tweets    span_days  tweets_per_day\n",
       "0               200               200     7.808345       25.613623\n",
       "1               197               197  1095.987755        0.179747\n",
       "2               200               200   930.533437        0.214930\n",
       "3               200               200     2.232431       89.588453\n",
       "4               199               199     4.287847       46.410236"
      ],
      "text/html": [
       "<div>\n",
       "<style scoped>\n",
       "    .dataframe tbody tr th:only-of-type {\n",
       "        vertical-align: middle;\n",
       "    }\n",
       "\n",
       "    .dataframe tbody tr th {\n",
       "        vertical-align: top;\n",
       "    }\n",
       "\n",
       "    .dataframe thead th {\n",
       "        text-align: right;\n",
       "    }\n",
       "</style>\n",
       "<table border=\"1\" class=\"dataframe\">\n",
       "  <thead>\n",
       "    <tr style=\"text-align: right;\">\n",
       "      <th></th>\n",
       "      <th>number_of_tweets</th>\n",
       "      <th>number_of_tweets</th>\n",
       "      <th>span_days</th>\n",
       "      <th>tweets_per_day</th>\n",
       "    </tr>\n",
       "  </thead>\n",
       "  <tbody>\n",
       "    <tr>\n",
       "      <th>0</th>\n",
       "      <td>200</td>\n",
       "      <td>200</td>\n",
       "      <td>7.808345</td>\n",
       "      <td>25.613623</td>\n",
       "    </tr>\n",
       "    <tr>\n",
       "      <th>1</th>\n",
       "      <td>197</td>\n",
       "      <td>197</td>\n",
       "      <td>1095.987755</td>\n",
       "      <td>0.179747</td>\n",
       "    </tr>\n",
       "    <tr>\n",
       "      <th>2</th>\n",
       "      <td>200</td>\n",
       "      <td>200</td>\n",
       "      <td>930.533437</td>\n",
       "      <td>0.214930</td>\n",
       "    </tr>\n",
       "    <tr>\n",
       "      <th>3</th>\n",
       "      <td>200</td>\n",
       "      <td>200</td>\n",
       "      <td>2.232431</td>\n",
       "      <td>89.588453</td>\n",
       "    </tr>\n",
       "    <tr>\n",
       "      <th>4</th>\n",
       "      <td>199</td>\n",
       "      <td>199</td>\n",
       "      <td>4.287847</td>\n",
       "      <td>46.410236</td>\n",
       "    </tr>\n",
       "  </tbody>\n",
       "</table>\n",
       "</div>"
      ]
     },
     "execution_count": 13,
     "metadata": {},
     "output_type": "execute_result"
    }
   ],
   "execution_count": 13
  },
  {
   "metadata": {
    "ExecuteTime": {
     "end_time": "2025-10-29T09:28:49.213330Z",
     "start_time": "2025-10-29T09:28:48.642857Z"
    }
   },
   "cell_type": "code",
   "source": [
    "df = df.loc[:, ~df.columns.duplicated()]\n",
    "\n",
    "sns.set(style=\"whitegrid\", context=\"notebook\")\n",
    "palette = {\"bot\": \"#E74C3C\", \"human\": \"#3498DB\"}\n",
    "\n",
    "# --- 1. Temporal / activity features ---\n",
    "fig, axes = plt.subplots(1, 3, figsize=(15, 4))\n",
    "for ax, col in zip(axes, [\"account_age_days\", \"span_days\", \"tweets_per_day\"]):\n",
    "    sns.boxplot(data=df, x=\"label\", y=col, hue=\"label\", palette=palette, ax=ax)\n",
    "    ax.set_title(col)\n",
    "    ax.set_xlabel(\"\")\n",
    "plt.suptitle(\"Temporal & Activity Patterns by Label\", fontsize=14)\n",
    "plt.tight_layout(rect=[0, 0, 1, 0.95])\n",
    "plt.show()\n",
    "\n",
    "#Bins\n",
    "bins = [0.03, 0.15, 1, 5, 20, 50, df[\"tweets_per_day\"].max()]\n",
    "labels = [\"<once per month\", \"biweekly\", \"1–5\", \"5–20\", \"20–50\", \"50+\"]\n",
    "\n",
    "df[\"tweets_per_day_bin\"] = pd.cut(df[\"tweets_per_day\"], bins=bins, labels=labels, include_lowest=True, right=False)\n",
    "\n",
    "# Plot\n",
    "plt.figure(figsize=(6,4))\n",
    "sns.countplot(x=\"tweets_per_day_bin\", data=df, color=\"#27AE60\")\n",
    "plt.title(\"Distribution of Tweet Frequency (tweets/day)\")\n",
    "plt.xlabel(\"Tweets per Day (binned)\")\n",
    "plt.ylabel(\"User Count\")\n",
    "plt.grid(axis=\"y\", linestyle=\"--\", alpha=0.6)\n",
    "plt.show()\n",
    "\n",
    "# --- 2. Content features ---\n",
    "fig, axes = plt.subplots(1, 2, figsize=(12, 4))\n",
    "sns.boxplot(data=df, x=\"label\", y=\"avg_len\", hue=\"label\", palette=palette, ax=axes[0])\n",
    "sns.boxplot(data=df, x=\"label\", y=\"median_len\", hue=\"label\", palette=palette, ax=axes[1])\n",
    "axes[0].set_title(\"Average Tweet Length\")\n",
    "axes[1].set_title(\"Median Tweet Length\")\n",
    "for ax in axes: ax.set_xlabel(\"\")\n",
    "plt.suptitle(\"Tweet Length Distribution by Label\", fontsize=14)\n",
    "plt.tight_layout(rect=[0, 0, 1, 0.95])\n",
    "plt.show()\n",
    "\n",
    "# --- 3. Behavioral indicators ---\n",
    "behavior_cols = [\"frac_has_url\", \"frac_has_hashtag\", \"frac_has_mention\", \"frac_retweet\", \"frac_reply\"]\n",
    "plt.figure(figsize=(10,5))\n",
    "df_melt = df.melt(id_vars=\"label\", value_vars=behavior_cols, var_name=\"feature\", value_name=\"fraction\")\n",
    "sns.boxplot(data=df_melt, x=\"feature\", y=\"fraction\", hue=\"label\", palette=palette)\n",
    "plt.xticks(rotation=30)\n",
    "plt.title(\"Behavioral Feature Fractions by Label\")\n",
    "plt.ylabel(\"Fraction of Tweets\")\n",
    "plt.xlabel(\"\")\n",
    "plt.legend(title=\"Label\")\n",
    "plt.tight_layout()\n",
    "plt.show()\n",
    "\n",
    "# --- 4. Correlation heatmap (bots + humans combined) ---\n",
    "cols_for_corr = [\"account_age_days\",\"tweets_per_day\",\"avg_len\",\"frac_has_url\",\"frac_retweet\",\"frac_reply\"]\n",
    "corr = df[cols_for_corr].corr()\n",
    "plt.figure(figsize=(6,5))\n",
    "sns.heatmap(corr, annot=True, cmap=\"coolwarm\", fmt=\".2f\", square=True)\n",
    "plt.title(\"Correlation Between Numeric Features\")\n",
    "plt.show()\n"
   ],
   "id": "19b00b1cec27c727",
   "outputs": [
    {
     "data": {
      "text/plain": [
       "<Figure size 1500x400 with 3 Axes>"
      ],
      "image/png": "[encoded data removed]"
     },
     "metadata": {},
     "output_type": "display_data",
     "jetTransient": {
      "display_id": null
     }
    },
    {
     "data": {
      "text/plain": [
       "<Figure size 600x400 with 1 Axes>"
      ],
      "image/png": "[encoded data removed]"
     },
     "metadata": {},
     "output_type": "display_data",
     "jetTransient": {
      "display_id": null
     }
    },
    {
     "data": {
      "text/plain": [
       "<Figure size 1200x400 with 2 Axes>"
      ],
      "image/png": "[encoded data removed]"
     },
     "metadata": {},
     "output_type": "display_data",
     "jetTransient": {
      "display_id": null
     }
    },
    {
     "data": {
      "text/plain": [
       "<Figure size 1000x500 with 1 Axes>"
      ],
      "image/png": "[encoded data removed]"
     },
     "metadata": {},
     "output_type": "display_data",
     "jetTransient": {
      "display_id": null
     }
    },
    {
     "data": {
      "text/plain": [
       "<Figure size 600x500 with 2 Axes>"
      ],
      "image/png": "[encoded data removed]"
     },
     "metadata": {},
     "output_type": "display_data",
     "jetTransient": {
      "display_id": null
     }
    }
   ],
   "execution_count": 14
  },
  {
   "metadata": {},
   "cell_type": "markdown",
   "source": "## Preprocessing",
   "id": "94964c2d448d2014"
  },
  {
   "metadata": {
    "ExecuteTime": {
     "end_time": "2025-10-29T09:28:49.514062Z",
     "start_time": "2025-10-29T09:28:49.241422Z"
    }
   },
   "cell_type": "code",
   "source": "df.head()",
   "id": "edf07c756473ef85",
   "outputs": [
    {
     "data": {
      "text/plain": [
       "      user_id  label             dataset  \\\n",
       "0    16905397  human  botometer-feedback   \n",
       "1  2717053344  human  botometer-feedback   \n",
       "2   297051227  human  botometer-feedback   \n",
       "3   282275320  human  botometer-feedback   \n",
       "4  1663020151  human  botometer-feedback   \n",
       "\n",
       "                                         user_tweets  number_of_tweets  \\\n",
       "0  [{'contributors': None, 'truncated': True, 'te...               200   \n",
       "1  [{'contributors': None, 'truncated': False, 't...               197   \n",
       "2  [{'contributors': None, 'truncated': False, 't...               200   \n",
       "3  [{'contributors': None, 'truncated': False, 't...               200   \n",
       "4  [{'contributors': None, 'truncated': False, 't...               199   \n",
       "\n",
       "           first_tweet_date           last_tweet_date  account_age_days  \\\n",
       "0 2018-04-10 18:45:00+00:00 2018-04-18 14:09:01+00:00       2758.612868   \n",
       "1 2015-04-01 18:26:50+00:00 2018-04-01 18:09:12+00:00       3863.625483   \n",
       "2 2015-09-28 09:26:28+00:00 2018-04-15 22:14:37+00:00       3684.000738   \n",
       "3 2018-04-15 23:47:16+00:00 2018-04-18 05:21:58+00:00       2753.402960   \n",
       "4 2018-04-13 20:57:28+00:00 2018-04-18 03:51:58+00:00       2755.520877   \n",
       "\n",
       "     span_days  tweets_per_day     avg_len  median_len  frac_has_url  \\\n",
       "0     7.808345       25.613623  122.445000       139.0      0.455000   \n",
       "1  1095.987755        0.179747   94.507614        90.0      0.380711   \n",
       "2   930.533437        0.214930  116.360000       129.5      0.730000   \n",
       "3     2.232431       89.588453  109.360000       122.0      0.585000   \n",
       "4     4.287847       46.410236   98.075377       109.0      0.316583   \n",
       "\n",
       "   frac_has_hashtag  frac_has_mention  frac_retweet  frac_reply  \\\n",
       "0          0.675000          0.700000           0.0    0.165000   \n",
       "1          0.294416          0.939086           0.0    0.461929   \n",
       "2          0.145000          0.750000           0.0    0.210000   \n",
       "3          0.225000          0.910000           0.0    0.170000   \n",
       "4          0.025126          0.889447           0.0    0.477387   \n",
       "\n",
       "  tweets_per_day_bin  \n",
       "0              20–50  \n",
       "1           biweekly  \n",
       "2           biweekly  \n",
       "3                50+  \n",
       "4              20–50  "
      ],
      "text/html": [
       "<div>\n",
       "<style scoped>\n",
       "    .dataframe tbody tr th:only-of-type {\n",
       "        vertical-align: middle;\n",
       "    }\n",
       "\n",
       "    .dataframe tbody tr th {\n",
       "        vertical-align: top;\n",
       "    }\n",
       "\n",
       "    .dataframe thead th {\n",
       "        text-align: right;\n",
       "    }\n",
       "</style>\n",
       "<table border=\"1\" class=\"dataframe\">\n",
       "  <thead>\n",
       "    <tr style=\"text-align: right;\">\n",
       "      <th></th>\n",
       "      <th>user_id</th>\n",
       "      <th>label</th>\n",
       "      <th>dataset</th>\n",
       "      <th>user_tweets</th>\n",
       "      <th>number_of_tweets</th>\n",
       "      <th>first_tweet_date</th>\n",
       "      <th>last_tweet_date</th>\n",
       "      <th>account_age_days</th>\n",
       "      <th>span_days</th>\n",
       "      <th>tweets_per_day</th>\n",
       "      <th>avg_len</th>\n",
       "      <th>median_len</th>\n",
       "      <th>frac_has_url</th>\n",
       "      <th>frac_has_hashtag</th>\n",
       "      <th>frac_has_mention</th>\n",
       "      <th>frac_retweet</th>\n",
       "      <th>frac_reply</th>\n",
       "      <th>tweets_per_day_bin</th>\n",
       "    </tr>\n",
       "  </thead>\n",
       "  <tbody>\n",
       "    <tr>\n",
       "      <th>0</th>\n",
       "      <td>16905397</td>\n",
       "      <td>human</td>\n",
       "      <td>botometer-feedback</td>\n",
       "      <td>[{'contributors': None, 'truncated': True, 'te...</td>\n",
       "      <td>200</td>\n",
       "      <td>2018-04-10 18:45:00+00:00</td>\n",
       "      <td>2018-04-18 14:09:01+00:00</td>\n",
       "      <td>2758.612868</td>\n",
       "      <td>7.808345</td>\n",
       "      <td>25.613623</td>\n",
       "      <td>122.445000</td>\n",
       "      <td>139.0</td>\n",
       "      <td>0.455000</td>\n",
       "      <td>0.675000</td>\n",
       "      <td>0.700000</td>\n",
       "      <td>0.0</td>\n",
       "      <td>0.165000</td>\n",
       "      <td>20–50</td>\n",
       "    </tr>\n",
       "    <tr>\n",
       "      <th>1</th>\n",
       "      <td>2717053344</td>\n",
       "      <td>human</td>\n",
       "      <td>botometer-feedback</td>\n",
       "      <td>[{'contributors': None, 'truncated': False, 't...</td>\n",
       "      <td>197</td>\n",
       "      <td>2015-04-01 18:26:50+00:00</td>\n",
       "      <td>2018-04-01 18:09:12+00:00</td>\n",
       "      <td>3863.625483</td>\n",
       "      <td>1095.987755</td>\n",
       "      <td>0.179747</td>\n",
       "      <td>94.507614</td>\n",
       "      <td>90.0</td>\n",
       "      <td>0.380711</td>\n",
       "      <td>0.294416</td>\n",
       "      <td>0.939086</td>\n",
       "      <td>0.0</td>\n",
       "      <td>0.461929</td>\n",
       "      <td>biweekly</td>\n",
       "    </tr>\n",
       "    <tr>\n",
       "      <th>2</th>\n",
       "      <td>297051227</td>\n",
       "      <td>human</td>\n",
       "      <td>botometer-feedback</td>\n",
       "      <td>[{'contributors': None, 'truncated': False, 't...</td>\n",
       "      <td>200</td>\n",
       "      <td>2015-09-28 09:26:28+00:00</td>\n",
       "      <td>2018-04-15 22:14:37+00:00</td>\n",
       "      <td>3684.000738</td>\n",
       "      <td>930.533437</td>\n",
       "      <td>0.214930</td>\n",
       "      <td>116.360000</td>\n",
       "      <td>129.5</td>\n",
       "      <td>0.730000</td>\n",
       "      <td>0.145000</td>\n",
       "      <td>0.750000</td>\n",
       "      <td>0.0</td>\n",
       "      <td>0.210000</td>\n",
       "      <td>biweekly</td>\n",
       "    </tr>\n",
       "    <tr>\n",
       "      <th>3</th>\n",
       "      <td>282275320</td>\n",
       "      <td>human</td>\n",
       "      <td>botometer-feedback</td>\n",
       "      <td>[{'contributors': None, 'truncated': False, 't...</td>\n",
       "      <td>200</td>\n",
       "      <td>2018-04-15 23:47:16+00:00</td>\n",
       "      <td>2018-04-18 05:21:58+00:00</td>\n",
       "      <td>2753.402960</td>\n",
       "      <td>2.232431</td>\n",
       "      <td>89.588453</td>\n",
       "      <td>109.360000</td>\n",
       "      <td>122.0</td>\n",
       "      <td>0.585000</td>\n",
       "      <td>0.225000</td>\n",
       "      <td>0.910000</td>\n",
       "      <td>0.0</td>\n",
       "      <td>0.170000</td>\n",
       "      <td>50+</td>\n",
       "    </tr>\n",
       "    <tr>\n",
       "      <th>4</th>\n",
       "      <td>1663020151</td>\n",
       "      <td>human</td>\n",
       "      <td>botometer-feedback</td>\n",
       "      <td>[{'contributors': None, 'truncated': False, 't...</td>\n",
       "      <td>199</td>\n",
       "      <td>2018-04-13 20:57:28+00:00</td>\n",
       "      <td>2018-04-18 03:51:58+00:00</td>\n",
       "      <td>2755.520877</td>\n",
       "      <td>4.287847</td>\n",
       "      <td>46.410236</td>\n",
       "      <td>98.075377</td>\n",
       "      <td>109.0</td>\n",
       "      <td>0.316583</td>\n",
       "      <td>0.025126</td>\n",
       "      <td>0.889447</td>\n",
       "      <td>0.0</td>\n",
       "      <td>0.477387</td>\n",
       "      <td>20–50</td>\n",
       "    </tr>\n",
       "  </tbody>\n",
       "</table>\n",
       "</div>"
      ]
     },
     "execution_count": 15,
     "metadata": {},
     "output_type": "execute_result"
    }
   ],
   "execution_count": 15
  },
  {
   "metadata": {
    "ExecuteTime": {
     "end_time": "2025-10-29T09:28:49.843128Z",
     "start_time": "2025-10-29T09:28:49.570981Z"
    }
   },
   "cell_type": "code",
   "source": [
    "df = df.drop(columns=[\"tweets_per_day_bin\"])\n",
    "df.head(5)\n"
   ],
   "id": "10295c275c13bf44",
   "outputs": [
    {
     "data": {
      "text/plain": [
       "      user_id  label             dataset  \\\n",
       "0    16905397  human  botometer-feedback   \n",
       "1  2717053344  human  botometer-feedback   \n",
       "2   297051227  human  botometer-feedback   \n",
       "3   282275320  human  botometer-feedback   \n",
       "4  1663020151  human  botometer-feedback   \n",
       "\n",
       "                                         user_tweets  number_of_tweets  \\\n",
       "0  [{'contributors': None, 'truncated': True, 'te...               200   \n",
       "1  [{'contributors': None, 'truncated': False, 't...               197   \n",
       "2  [{'contributors': None, 'truncated': False, 't...               200   \n",
       "3  [{'contributors': None, 'truncated': False, 't...               200   \n",
       "4  [{'contributors': None, 'truncated': False, 't...               199   \n",
       "\n",
       "           first_tweet_date           last_tweet_date  account_age_days  \\\n",
       "0 2018-04-10 18:45:00+00:00 2018-04-18 14:09:01+00:00       2758.612868   \n",
       "1 2015-04-01 18:26:50+00:00 2018-04-01 18:09:12+00:00       3863.625483   \n",
       "2 2015-09-28 09:26:28+00:00 2018-04-15 22:14:37+00:00       3684.000738   \n",
       "3 2018-04-15 23:47:16+00:00 2018-04-18 05:21:58+00:00       2753.402960   \n",
       "4 2018-04-13 20:57:28+00:00 2018-04-18 03:51:58+00:00       2755.520877   \n",
       "\n",
       "     span_days  tweets_per_day     avg_len  median_len  frac_has_url  \\\n",
       "0     7.808345       25.613623  122.445000       139.0      0.455000   \n",
       "1  1095.987755        0.179747   94.507614        90.0      0.380711   \n",
       "2   930.533437        0.214930  116.360000       129.5      0.730000   \n",
       "3     2.232431       89.588453  109.360000       122.0      0.585000   \n",
       "4     4.287847       46.410236   98.075377       109.0      0.316583   \n",
       "\n",
       "   frac_has_hashtag  frac_has_mention  frac_retweet  frac_reply  \n",
       "0          0.675000          0.700000           0.0    0.165000  \n",
       "1          0.294416          0.939086           0.0    0.461929  \n",
       "2          0.145000          0.750000           0.0    0.210000  \n",
       "3          0.225000          0.910000           0.0    0.170000  \n",
       "4          0.025126          0.889447           0.0    0.477387  "
      ],
      "text/html": [
       "<div>\n",
       "<style scoped>\n",
       "    .dataframe tbody tr th:only-of-type {\n",
       "        vertical-align: middle;\n",
       "    }\n",
       "\n",
       "    .dataframe tbody tr th {\n",
       "        vertical-align: top;\n",
       "    }\n",
       "\n",
       "    .dataframe thead th {\n",
       "        text-align: right;\n",
       "    }\n",
       "</style>\n",
       "<table border=\"1\" class=\"dataframe\">\n",
       "  <thead>\n",
       "    <tr style=\"text-align: right;\">\n",
       "      <th></th>\n",
       "      <th>user_id</th>\n",
       "      <th>label</th>\n",
       "      <th>dataset</th>\n",
       "      <th>user_tweets</th>\n",
       "      <th>number_of_tweets</th>\n",
       "      <th>first_tweet_date</th>\n",
       "      <th>last_tweet_date</th>\n",
       "      <th>account_age_days</th>\n",
       "      <th>span_days</th>\n",
       "      <th>tweets_per_day</th>\n",
       "      <th>avg_len</th>\n",
       "      <th>median_len</th>\n",
       "      <th>frac_has_url</th>\n",
       "      <th>frac_has_hashtag</th>\n",
       "      <th>frac_has_mention</th>\n",
       "      <th>frac_retweet</th>\n",
       "      <th>frac_reply</th>\n",
       "    </tr>\n",
       "  </thead>\n",
       "  <tbody>\n",
       "    <tr>\n",
       "      <th>0</th>\n",
       "      <td>16905397</td>\n",
       "      <td>human</td>\n",
       "      <td>botometer-feedback</td>\n",
       "      <td>[{'contributors': None, 'truncated': True, 'te...</td>\n",
       "      <td>200</td>\n",
       "      <td>2018-04-10 18:45:00+00:00</td>\n",
       "      <td>2018-04-18 14:09:01+00:00</td>\n",
       "      <td>2758.612868</td>\n",
       "      <td>7.808345</td>\n",
       "      <td>25.613623</td>\n",
       "      <td>122.445000</td>\n",
       "      <td>139.0</td>\n",
       "      <td>0.455000</td>\n",
       "      <td>0.675000</td>\n",
       "      <td>0.700000</td>\n",
       "      <td>0.0</td>\n",
       "      <td>0.165000</td>\n",
       "    </tr>\n",
       "    <tr>\n",
       "      <th>1</th>\n",
       "      <td>2717053344</td>\n",
       "      <td>human</td>\n",
       "      <td>botometer-feedback</td>\n",
       "      <td>[{'contributors': None, 'truncated': False, 't...</td>\n",
       "      <td>197</td>\n",
       "      <td>2015-04-01 18:26:50+00:00</td>\n",
       "      <td>2018-04-01 18:09:12+00:00</td>\n",
       "      <td>3863.625483</td>\n",
       "      <td>1095.987755</td>\n",
       "      <td>0.179747</td>\n",
       "      <td>94.507614</td>\n",
       "      <td>90.0</td>\n",
       "      <td>0.380711</td>\n",
       "      <td>0.294416</td>\n",
       "      <td>0.939086</td>\n",
       "      <td>0.0</td>\n",
       "      <td>0.461929</td>\n",
       "    </tr>\n",
       "    <tr>\n",
       "      <th>2</th>\n",
       "      <td>297051227</td>\n",
       "      <td>human</td>\n",
       "      <td>botometer-feedback</td>\n",
       "      <td>[{'contributors': None, 'truncated': False, 't...</td>\n",
       "      <td>200</td>\n",
       "      <td>2015-09-28 09:26:28+00:00</td>\n",
       "      <td>2018-04-15 22:14:37+00:00</td>\n",
       "      <td>3684.000738</td>\n",
       "      <td>930.533437</td>\n",
       "      <td>0.214930</td>\n",
       "      <td>116.360000</td>\n",
       "      <td>129.5</td>\n",
       "      <td>0.730000</td>\n",
       "      <td>0.145000</td>\n",
       "      <td>0.750000</td>\n",
       "      <td>0.0</td>\n",
       "      <td>0.210000</td>\n",
       "    </tr>\n",
       "    <tr>\n",
       "      <th>3</th>\n",
       "      <td>282275320</td>\n",
       "      <td>human</td>\n",
       "      <td>botometer-feedback</td>\n",
       "      <td>[{'contributors': None, 'truncated': False, 't...</td>\n",
       "      <td>200</td>\n",
       "      <td>2018-04-15 23:47:16+00:00</td>\n",
       "      <td>2018-04-18 05:21:58+00:00</td>\n",
       "      <td>2753.402960</td>\n",
       "      <td>2.232431</td>\n",
       "      <td>89.588453</td>\n",
       "      <td>109.360000</td>\n",
       "      <td>122.0</td>\n",
       "      <td>0.585000</td>\n",
       "      <td>0.225000</td>\n",
       "      <td>0.910000</td>\n",
       "      <td>0.0</td>\n",
       "      <td>0.170000</td>\n",
       "    </tr>\n",
       "    <tr>\n",
       "      <th>4</th>\n",
       "      <td>1663020151</td>\n",
       "      <td>human</td>\n",
       "      <td>botometer-feedback</td>\n",
       "      <td>[{'contributors': None, 'truncated': False, 't...</td>\n",
       "      <td>199</td>\n",
       "      <td>2018-04-13 20:57:28+00:00</td>\n",
       "      <td>2018-04-18 03:51:58+00:00</td>\n",
       "      <td>2755.520877</td>\n",
       "      <td>4.287847</td>\n",
       "      <td>46.410236</td>\n",
       "      <td>98.075377</td>\n",
       "      <td>109.0</td>\n",
       "      <td>0.316583</td>\n",
       "      <td>0.025126</td>\n",
       "      <td>0.889447</td>\n",
       "      <td>0.0</td>\n",
       "      <td>0.477387</td>\n",
       "    </tr>\n",
       "  </tbody>\n",
       "</table>\n",
       "</div>"
      ]
     },
     "execution_count": 16,
     "metadata": {},
     "output_type": "execute_result"
    }
   ],
   "execution_count": 16
  },
  {
   "metadata": {
    "ExecuteTime": {
     "end_time": "2025-10-29T09:28:50.415397Z",
     "start_time": "2025-10-29T09:28:50.412987Z"
    }
   },
   "cell_type": "code",
   "source": "df.columns",
   "id": "9d22972830e6dff0",
   "outputs": [
    {
     "data": {
      "text/plain": [
       "Index(['user_id', 'label', 'dataset', 'user_tweets', 'number_of_tweets',\n",
       "       'first_tweet_date', 'last_tweet_date', 'account_age_days', 'span_days',\n",
       "       'tweets_per_day', 'avg_len', 'median_len', 'frac_has_url',\n",
       "       'frac_has_hashtag', 'frac_has_mention', 'frac_retweet', 'frac_reply'],\n",
       "      dtype='object')"
      ]
     },
     "execution_count": 17,
     "metadata": {},
     "output_type": "execute_result"
    }
   ],
   "execution_count": 17
  },
  {
   "metadata": {
    "ExecuteTime": {
     "end_time": "2025-10-29T09:28:50.871161Z",
     "start_time": "2025-10-29T09:28:50.420537Z"
    }
   },
   "cell_type": "code",
   "source": [
    "# 0) Basic checks\n",
    "print(\"Rows:\", len(df))\n",
    "print(\"Columns:\", list(df.columns))\n",
    "\n",
    "# 1) user_tweets presence/shape\n",
    "has_list = df[\"user_tweets\"].map(lambda x: isinstance(x, list))\n",
    "print(\"Rows with list in user_tweets:\", has_list.sum())\n",
    "\n",
    "nonempty_lists = df[\"user_tweets\"].map(lambda x: isinstance(x, list) and len(x) > 0)\n",
    "print(\"Rows with non-empty user_tweets:\", nonempty_lists.sum())\n",
    "\n",
    "# 2) created_at availability (sample 500 users to keep it quick)\n",
    "sample_idx = df.index[:min(500, len(df))]\n",
    "def has_created_at(lst):\n",
    "    if not isinstance(lst, list): return 0.0\n",
    "    if not lst: return 0.0\n",
    "    return sum(1 for t in lst if isinstance(t, dict) and \"created_at\" in t) / len(lst)\n",
    "\n",
    "print(\"Mean fraction of tweets that have created_at (sample):\",\n",
    "      df.loc[sample_idx, \"user_tweets\"].map(has_created_at).mean())\n",
    "\n",
    "# 3) Check for weird zeros\n",
    "print(\"number_of_tweets: min/median/mean/max\",\n",
    "      int(df[\"number_of_tweets\"].min()),\n",
    "      df[\"number_of_tweets\"].median(),\n",
    "      df[\"number_of_tweets\"].mean(),\n",
    "      int(df[\"number_of_tweets\"].max()))\n",
    "\n",
    "print(\"tweets_per_day:   min/median/mean/max\",\n",
    "      df[\"tweets_per_day\"].min(),\n",
    "      df[\"tweets_per_day\"].median(),\n",
    "      df[\"tweets_per_day\"].mean(),\n",
    "      df[\"tweets_per_day\"].max())\n"
   ],
   "id": "878f4b7d8927ac94",
   "outputs": [
    {
     "name": "stdout",
     "output_type": "stream",
     "text": [
      "Rows: 2280\n",
      "Columns: ['user_id', 'label', 'dataset', 'user_tweets', 'number_of_tweets', 'first_tweet_date', 'last_tweet_date', 'account_age_days', 'span_days', 'tweets_per_day', 'avg_len', 'median_len', 'frac_has_url', 'frac_has_hashtag', 'frac_has_mention', 'frac_retweet', 'frac_reply']\n",
      "Rows with list in user_tweets: 2280\n",
      "Rows with non-empty user_tweets: 2280\n",
      "Mean fraction of tweets that have created_at (sample): 1.0\n",
      "number_of_tweets: min/median/mean/max 1 195.0 161.4157894736842 211\n",
      "tweets_per_day:   min/median/mean/max 0.004125551219482381 2.7579643674567906 9.321163742190759 4628.571428571428\n"
     ]
    }
   ],
   "execution_count": 18
  },
  {
   "metadata": {
    "ExecuteTime": {
     "end_time": "2025-10-29T09:28:50.885845Z",
     "start_time": "2025-10-29T09:28:50.880510Z"
    }
   },
   "cell_type": "code",
   "source": [
    "print(len(df[\"user_id\"].unique()))\n",
    "# Duplicates in df\n",
    "dups_df = df[df[\"user_id\"].duplicated(keep=False)].sort_values(\"user_id\")\n",
    "print(f\"Duplicate user_ids in df: {dups_df['user_id'].nunique()} unique IDs, {len(dups_df)} total duplicate rows\")\n",
    "if not dups_df.empty:\n",
    "    print(\"Example duplicates from df:\\n\", dups_df[\"user_id\"].value_counts().head())\n",
    "\n",
    "# (Optional) show full list of duplicated IDs if there are only a few\n",
    "dup_ids_df = df[\"user_id\"][df[\"user_id\"].duplicated(keep=False)].unique()\n",
    "print(\"\\nIDs duplicated in df:\", dup_ids_df)\n"
   ],
   "id": "c6feb60797daf747",
   "outputs": [
    {
     "name": "stdout",
     "output_type": "stream",
     "text": [
      "2279\n",
      "Duplicate user_ids in df: 1 unique IDs, 2 total duplicate rows\n",
      "Example duplicates from df:\n",
      " user_id\n",
      "304679484    2\n",
      "Name: count, dtype: int64\n",
      "\n",
      "IDs duplicated in df: [304679484]\n"
     ]
    }
   ],
   "execution_count": 19
  },
  {
   "metadata": {
    "ExecuteTime": {
     "end_time": "2025-10-29T09:28:52.652472Z",
     "start_time": "2025-10-29T09:28:50.889895Z"
    }
   },
   "cell_type": "code",
   "source": [
    "def concat_user_tweets(df_with_tweets):\n",
    "    rows = []\n",
    "    for index, row in df_with_tweets.iterrows():\n",
    "        tweets = row[\"user_tweets\"]\n",
    "        if isinstance(tweets, list) and len(tweets) > 0:\n",
    "            text = \" \".join(str(t.get(\"text\",\"\")) for t in tweets if isinstance(t, dict))\n",
    "        else:\n",
    "            text = \"\"\n",
    "        rows.append({\"user_id\": row[\"user_id\"], \"text_joined\": text})\n",
    "    return pd.DataFrame(rows)\n",
    "\n",
    "user_docs = concat_user_tweets(df)\n",
    "user_docs[\"char_len\"] = user_docs[\"text_joined\"].str.len()\n",
    "\n",
    "print(user_docs.shape)               # (n_users, 2/3)\n",
    "print(user_docs[\"char_len\"].describe())  # sanity on text size\n",
    "print(user_docs.head(2))\n"
   ],
   "id": "5171e97adc799845",
   "outputs": [
    {
     "name": "stdout",
     "output_type": "stream",
     "text": [
      "(2280, 3)\n",
      "count     2280.000000\n",
      "mean     16494.754825\n",
      "std       5464.162330\n",
      "min         18.000000\n",
      "25%      13034.500000\n",
      "50%      16727.500000\n",
      "75%      20644.250000\n",
      "max      27712.000000\n",
      "Name: char_len, dtype: float64\n",
      "      user_id                                        text_joined  char_len\n",
      "0    16905397  @christophkoeck In Diskussionen in D erlebe ic...     24688\n",
      "1  2717053344  RT @huaweimobilefr: Bref, on aime la nouveauté...     18814\n"
     ]
    }
   ],
   "execution_count": 20
  },
  {
   "metadata": {
    "ExecuteTime": {
     "end_time": "2025-10-29T09:28:52.914097Z",
     "start_time": "2025-10-29T09:28:52.908775Z"
    }
   },
   "cell_type": "code",
   "source": "user_docs.head()",
   "id": "4fea12eae4c5b9ad",
   "outputs": [
    {
     "data": {
      "text/plain": [
       "      user_id                                        text_joined  char_len\n",
       "0    16905397  @christophkoeck In Diskussionen in D erlebe ic...     24688\n",
       "1  2717053344  RT @huaweimobilefr: Bref, on aime la nouveauté...     18814\n",
       "2   297051227  RT @DPZaragoza: Los #bomberos de la @DPZaragoz...     23471\n",
       "3   282275320  @xandaolp Good night, Alexandre.  🌒 @RoehrigLi...     22071\n",
       "4  1663020151  @pixburghgrrl @laurapedirose WTH? @JohnRMoffit...     19715"
      ],
      "text/html": [
       "<div>\n",
       "<style scoped>\n",
       "    .dataframe tbody tr th:only-of-type {\n",
       "        vertical-align: middle;\n",
       "    }\n",
       "\n",
       "    .dataframe tbody tr th {\n",
       "        vertical-align: top;\n",
       "    }\n",
       "\n",
       "    .dataframe thead th {\n",
       "        text-align: right;\n",
       "    }\n",
       "</style>\n",
       "<table border=\"1\" class=\"dataframe\">\n",
       "  <thead>\n",
       "    <tr style=\"text-align: right;\">\n",
       "      <th></th>\n",
       "      <th>user_id</th>\n",
       "      <th>text_joined</th>\n",
       "      <th>char_len</th>\n",
       "    </tr>\n",
       "  </thead>\n",
       "  <tbody>\n",
       "    <tr>\n",
       "      <th>0</th>\n",
       "      <td>16905397</td>\n",
       "      <td>@christophkoeck In Diskussionen in D erlebe ic...</td>\n",
       "      <td>24688</td>\n",
       "    </tr>\n",
       "    <tr>\n",
       "      <th>1</th>\n",
       "      <td>2717053344</td>\n",
       "      <td>RT @huaweimobilefr: Bref, on aime la nouveauté...</td>\n",
       "      <td>18814</td>\n",
       "    </tr>\n",
       "    <tr>\n",
       "      <th>2</th>\n",
       "      <td>297051227</td>\n",
       "      <td>RT @DPZaragoza: Los #bomberos de la @DPZaragoz...</td>\n",
       "      <td>23471</td>\n",
       "    </tr>\n",
       "    <tr>\n",
       "      <th>3</th>\n",
       "      <td>282275320</td>\n",
       "      <td>@xandaolp Good night, Alexandre.  🌒 @RoehrigLi...</td>\n",
       "      <td>22071</td>\n",
       "    </tr>\n",
       "    <tr>\n",
       "      <th>4</th>\n",
       "      <td>1663020151</td>\n",
       "      <td>@pixburghgrrl @laurapedirose WTH? @JohnRMoffit...</td>\n",
       "      <td>19715</td>\n",
       "    </tr>\n",
       "  </tbody>\n",
       "</table>\n",
       "</div>"
      ]
     },
     "execution_count": 21,
     "metadata": {},
     "output_type": "execute_result"
    }
   ],
   "execution_count": 21
  },
  {
   "metadata": {
    "ExecuteTime": {
     "end_time": "2025-10-29T09:28:52.953790Z",
     "start_time": "2025-10-29T09:28:52.945202Z"
    }
   },
   "cell_type": "code",
   "source": [
    "# 0) Join labels to your user_docs\n",
    "data = df[['user_id','label']].merge(user_docs, on='user_id', how='inner').copy()\n",
    "\n",
    "# 1) Binary labels: bot=1, others (human/real/verified) = 0\n",
    "data['y'] = data['label'].astype(str).str.lower().map({'bot':1}).fillna(0).astype(int)\n"
   ],
   "id": "3e6fc396da2e95bc",
   "outputs": [],
   "execution_count": 22
  },
  {
   "metadata": {
    "ExecuteTime": {
     "end_time": "2025-10-29T09:28:53.032302Z",
     "start_time": "2025-10-29T09:28:53.024987Z"
    }
   },
   "cell_type": "code",
   "source": [
    "print(data.shape)\n",
    "data.head()"
   ],
   "id": "d6156640dc92a5cd",
   "outputs": [
    {
     "name": "stdout",
     "output_type": "stream",
     "text": [
      "(2282, 5)\n"
     ]
    },
    {
     "data": {
      "text/plain": [
       "      user_id  label                                        text_joined  \\\n",
       "0    16905397  human  @christophkoeck In Diskussionen in D erlebe ic...   \n",
       "1  2717053344  human  RT @huaweimobilefr: Bref, on aime la nouveauté...   \n",
       "2   297051227  human  RT @DPZaragoza: Los #bomberos de la @DPZaragoz...   \n",
       "3   282275320  human  @xandaolp Good night, Alexandre.  🌒 @RoehrigLi...   \n",
       "4  1663020151  human  @pixburghgrrl @laurapedirose WTH? @JohnRMoffit...   \n",
       "\n",
       "   char_len  y  \n",
       "0     24688  0  \n",
       "1     18814  0  \n",
       "2     23471  0  \n",
       "3     22071  0  \n",
       "4     19715  0  "
      ],
      "text/html": [
       "<div>\n",
       "<style scoped>\n",
       "    .dataframe tbody tr th:only-of-type {\n",
       "        vertical-align: middle;\n",
       "    }\n",
       "\n",
       "    .dataframe tbody tr th {\n",
       "        vertical-align: top;\n",
       "    }\n",
       "\n",
       "    .dataframe thead th {\n",
       "        text-align: right;\n",
       "    }\n",
       "</style>\n",
       "<table border=\"1\" class=\"dataframe\">\n",
       "  <thead>\n",
       "    <tr style=\"text-align: right;\">\n",
       "      <th></th>\n",
       "      <th>user_id</th>\n",
       "      <th>label</th>\n",
       "      <th>text_joined</th>\n",
       "      <th>char_len</th>\n",
       "      <th>y</th>\n",
       "    </tr>\n",
       "  </thead>\n",
       "  <tbody>\n",
       "    <tr>\n",
       "      <th>0</th>\n",
       "      <td>16905397</td>\n",
       "      <td>human</td>\n",
       "      <td>@christophkoeck In Diskussionen in D erlebe ic...</td>\n",
       "      <td>24688</td>\n",
       "      <td>0</td>\n",
       "    </tr>\n",
       "    <tr>\n",
       "      <th>1</th>\n",
       "      <td>2717053344</td>\n",
       "      <td>human</td>\n",
       "      <td>RT @huaweimobilefr: Bref, on aime la nouveauté...</td>\n",
       "      <td>18814</td>\n",
       "      <td>0</td>\n",
       "    </tr>\n",
       "    <tr>\n",
       "      <th>2</th>\n",
       "      <td>297051227</td>\n",
       "      <td>human</td>\n",
       "      <td>RT @DPZaragoza: Los #bomberos de la @DPZaragoz...</td>\n",
       "      <td>23471</td>\n",
       "      <td>0</td>\n",
       "    </tr>\n",
       "    <tr>\n",
       "      <th>3</th>\n",
       "      <td>282275320</td>\n",
       "      <td>human</td>\n",
       "      <td>@xandaolp Good night, Alexandre.  🌒 @RoehrigLi...</td>\n",
       "      <td>22071</td>\n",
       "      <td>0</td>\n",
       "    </tr>\n",
       "    <tr>\n",
       "      <th>4</th>\n",
       "      <td>1663020151</td>\n",
       "      <td>human</td>\n",
       "      <td>@pixburghgrrl @laurapedirose WTH? @JohnRMoffit...</td>\n",
       "      <td>19715</td>\n",
       "      <td>0</td>\n",
       "    </tr>\n",
       "  </tbody>\n",
       "</table>\n",
       "</div>"
      ]
     },
     "execution_count": 23,
     "metadata": {},
     "output_type": "execute_result"
    }
   ],
   "execution_count": 23
  },
  {
   "metadata": {
    "ExecuteTime": {
     "end_time": "2025-10-29T09:28:53.096144Z",
     "start_time": "2025-10-29T09:28:53.090104Z"
    }
   },
   "cell_type": "code",
   "source": [
    "X_train, X_test, y_train, y_test = train_test_split(\n",
    "    data['text_joined'], data['y'], test_size=0.2, random_state=40, stratify=data['y']\n",
    ")"
   ],
   "id": "a83b9a10cfc38903",
   "outputs": [],
   "execution_count": 24
  },
  {
   "metadata": {
    "ExecuteTime": {
     "end_time": "2025-10-29T09:28:53.134102Z",
     "start_time": "2025-10-29T09:28:53.130529Z"
    }
   },
   "cell_type": "code",
   "source": "X_train.head()",
   "id": "be692adca17532d0",
   "outputs": [
    {
     "data": {
      "text/plain": [
       "140     https://t.co/XA6ZYpKlPo RT @DepressedDarth: Me...\n",
       "366     @mmiinnttss 55555555555 อินนะ RT @kupenmaew: ล...\n",
       "1187    RT @Bentleybee11: If your cbdc limits,punishes...\n",
       "1415    @idalistrades Improving. https://t.co/dMJUgpMQ...\n",
       "737     RT @SpanishLuvSongs: Suburban Lifestyle Dream,...\n",
       "Name: text_joined, dtype: object"
      ]
     },
     "execution_count": 25,
     "metadata": {},
     "output_type": "execute_result"
    }
   ],
   "execution_count": 25
  },
  {
   "metadata": {
    "ExecuteTime": {
     "end_time": "2025-10-29T09:28:53.229033Z",
     "start_time": "2025-10-29T09:28:53.226356Z"
    }
   },
   "cell_type": "code",
   "source": "y_train.head()",
   "id": "7496adbddb37c42c",
   "outputs": [
    {
     "data": {
      "text/plain": [
       "140     0\n",
       "366     0\n",
       "1187    1\n",
       "1415    1\n",
       "737     0\n",
       "Name: y, dtype: int64"
      ]
     },
     "execution_count": 26,
     "metadata": {},
     "output_type": "execute_result"
    }
   ],
   "execution_count": 26
  },
  {
   "metadata": {},
   "cell_type": "markdown",
   "source": [
    "# Modelling\n",
    "## TF-IDF + LogReg"
   ],
   "id": "63e5364895476854"
  },
  {
   "metadata": {
    "ExecuteTime": {
     "end_time": "2025-10-23T10:44:38.996076Z",
     "start_time": "2025-10-23T10:44:27.381295Z"
    }
   },
   "cell_type": "code",
   "source": [
    "from sklearn.pipeline import Pipeline\n",
    "from sklearn.feature_extraction.text import TfidfVectorizer\n",
    "from sklearn.linear_model import LogisticRegression\n",
    "\n",
    "\n",
    "# === Train ===\n",
    "tf_idf_pipe = Pipeline([\n",
    "    ('tfidf', TfidfVectorizer(max_features=200_000, ngram_range=(1,2), min_df=2)),\n",
    "    ('lr',    LogisticRegression(max_iter=2000, class_weight='balanced', solver='liblinear'))\n",
    "])\n",
    "\n",
    "# === Predict ===\n",
    "tf_idf_pipe.fit(X_train, y_train)\n",
    "\n",
    "\n",
    "if hasattr(tf_idf_pipe.named_steps['lr'], 'predict_proba'):\n",
    "    tf_idf_p_test = tf_idf_pipe.predict_proba(X_test)[:,1]\n",
    "else:\n",
    "    tf_idf_p_test = tf_idf_pipe.decision_function(X_test)\n",
    "\n",
    "\n",
    "# === Evaluate ===\n",
    "metrics_tf_idf = evaluate_model(y_test, tf_idf_p_test)\n",
    "\n"
   ],
   "id": "97b0309ecdf75db9",
   "outputs": [
    {
     "name": "stdout",
     "output_type": "stream",
     "text": [
      "ROC-AUC: 1.0000 | PR-AUC: 1.0000 | F1@0.326: 0.9978 | ACC: 0.9978\n"
     ]
    }
   ],
   "execution_count": 59
  },
  {
   "metadata": {
    "ExecuteTime": {
     "end_time": "2025-10-23T10:44:45.433695Z",
     "start_time": "2025-10-23T10:44:45.316456Z"
    }
   },
   "cell_type": "code",
   "source": [
    "# === Plots ===\n",
    "plot_threshold(metrics_tf_idf[\"thr\"], metrics_tf_idf[\"best_thr\"], metrics_tf_idf[\"f1s\"])\n",
    "plot_confusion(y_test, metrics_tf_idf[\"y_pred\"], metrics_tf_idf[\"best_thr\"])"
   ],
   "id": "8656048785dc1853",
   "outputs": [
    {
     "data": {
      "text/plain": [
       "<Figure size 640x480 with 1 Axes>"
      ],
      "image/png": "[encoded data removed]"
     },
     "metadata": {},
     "output_type": "display_data",
     "jetTransient": {
      "display_id": null
     }
    },
    {
     "data": {
      "text/plain": [
       "<Figure size 640x480 with 2 Axes>"
      ],
      "image/png": "[encoded data removed]"
     },
     "metadata": {},
     "output_type": "display_data",
     "jetTransient": {
      "display_id": null
     }
    },
    {
     "name": "stdout",
     "output_type": "stream",
     "text": [
      "True Negatives: 228\n",
      "False Positives: 1\n",
      "False Negatives: 0\n",
      "True Positives: 228\n"
     ]
    }
   ],
   "execution_count": 60
  },
  {
   "metadata": {
    "ExecuteTime": {
     "end_time": "2025-10-23T11:44:22.409900Z",
     "start_time": "2025-10-23T11:44:22.399117Z"
    }
   },
   "cell_type": "code",
   "source": [
    "#View data\n",
    "base_cols = ['user_id', 'label'] + (['dataset'] if 'dataset' in df.columns else [])\n",
    "data = df[base_cols].merge(user_docs, on='user_id', how='inner').copy()\n",
    "\n",
    "# Binary label\n",
    "data['y'] = data['label'].astype(str).str.lower().map({'bot':1}).fillna(0).astype(int)\n",
    "\n",
    "\n",
    "print(\"\\nExample bot doc:\\n\", data.loc[data['y']==1, 'text_joined'].iloc[0][:900])\n",
    "print(\"\\nExample human doc:\\n\", data.loc[data['y']==0, 'text_joined'].iloc[0][:900])\n",
    "\n"
   ],
   "id": "7524b5fb7dad1996",
   "outputs": [
    {
     "name": "stdout",
     "output_type": "stream",
     "text": [
      "\n",
      "Example bot doc:\n",
      " RT @CryptnomicsOrg: #Latest: MetaMask Denies $10 Million Wallet Hack Was MetaMask Exploit https://t.co/2qSAfw4Z7W RT @CryptoCapo_: Still short and strong. RT @GlobalEconNews: #Latest: How An Unemployed Trader Became a $700 Million Exile https://t.co/wEm7znsq1k RT @kucoincom: 🔥 Get ready for the ETH 2.0 Staking and withdrawal function on @KuCoin_Earn! Starting 14:30:00 on April 18, 2023 (UTC), user… @LocalFox8 Possible sad neutral response: \"It's always tough to deal with health issues, and liver disease can be p… https://t.co/gYrJbl288A @brian_armstrong @FrancescaH75050 @griffitha Whatever. https://t.co/WJM5wf5xwd #Breaking: The Promise and Threat of China’s Smart Cities https://t.co/oymEpjgNKw RT @Bitboy_Crypto: People talk so much smack about me but they just keep talking 😂\n",
      "\n",
      "You only get a few clout chasing chances and some of y’… RT @saylor: #Bitcoin is a swarm of cyber hornets servin\n",
      "\n",
      "Example human doc:\n",
      " @christophkoeck In Diskussionen in D erlebe ich eine starke Tendenz, den fachwissenschaftlichen Teil des Studiums e… https://t.co/mnrFupSXIn Zwei Lehrerinnen, zwölf Schüler und ein paar Schafe https://t.co/jTtda7l22s #EDchatDE #twitterlehrerzimmer Antisemitismus in Deutschland =&gt; Adam Armush: \"Ich will mich nicht verstecken\" https://t.co/CGx2FQAk1a Bayerische Politik und ihr Menschenbild – Das neue Psychiatriegesetz lässt tief in die Mentalität blicken, die da v… https://t.co/x7bkXVCN88 Es kommt doch auf den Lehrer an! #EDchatDE #Twitterlehrerzimmer »…Kind vor allem auf dem iPad lernt […], unterstützt von Lehrern, die sich als Coach verstehen…« &lt;= Das Problem dür… https://t.co/8UK4VSy4d7 RT @EdchatDE: Voting #EDchatDE #205: 5 Herkunft entscheidet über Bildungserfolg. (Wie) können wir das ändern? \n",
      "\n",
      " Voting #EDchatDE #205: 5 Y… RT @joerglohrer: Definiertere Körper als von Ausschwitzi\n"
     ]
    }
   ],
   "execution_count": 62
  }
 ],
 "metadata": {
  "kernelspec": {
   "display_name": "Python 3",
   "language": "python",
   "name": "python3"
  },
  "language_info": {
   "codemirror_mode": {
    "name": "ipython",
    "version": 2
   },
   "file_extension": ".py",
   "mimetype": "text/x-python",
   "name": "python",
   "nbconvert_exporter": "python",
   "pygments_lexer": "ipython2",
   "version": "2.7.6"
  }
 },
 "nbformat": 4,
 "nbformat_minor": 5
}
