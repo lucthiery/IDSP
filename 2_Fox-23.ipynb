{
 "cells": [
  {
   "metadata": {},
   "cell_type": "markdown",
   "source": [
    "### Fox8-23 Dataset\n",
    "\n",
    "**Hard facts:**\n",
    "- Collection year: 2023\n",
    "- Domain: General Twitter/X accounts\n",
    "- Size: 2,280 accounts\n",
    "- Labels: *bot* vs *human* (gold, manually verified)\n",
    "- Features: account-level metadata, tweets, embeddings provided in the dataset\n",
    "- Source: [Zenodo](https://zenodo.org/record/10066202), [GitHub](https://github.com/osome-iu/AIBot_fox8)\n",
    "\n",
    "**Description:**\n",
    "Fox8-23 was created at the Observatory on Social Media (OSoMe), Indiana University.\n",
    "It addresses the rise of **LLM-powered bots** on social platforms. Unlike BotArtist, Fox8-23 contains **human-verified ground truth labels** for each account, ensuring reliable evaluation.\n",
    "\n",
    "Though smaller than BotArtist, this dataset is valuable for:\n",
    "- Capturing **modern AI bot behaviors**.\n",
    "- Serving as a **benchmark for fine-tuning** models pretrained on large, weakly labeled datasets.\n",
    "- Providing **high-quality evaluation data** for bot detection systems.\n"
   ],
   "id": "eefa8b961140065a"
  },
  {
   "metadata": {
    "collapsed": true,
    "ExecuteTime": {
     "end_time": "2025-09-04T11:46:49.929117Z",
     "start_time": "2025-09-04T11:46:49.927331Z"
    }
   },
   "cell_type": "code",
   "source": "import pandas as pd\n",
   "id": "913e22b2ba60a654",
   "outputs": [],
   "execution_count": 1
  },
  {
   "metadata": {
    "ExecuteTime": {
     "end_time": "2025-09-04T11:56:36.832769Z",
     "start_time": "2025-09-04T11:54:46.262084Z"
    }
   },
   "cell_type": "code",
   "source": [
    "# Path to dataset\n",
    "path = \"data/2_Fox8-23/fox8_23_dataset.ndjson.gz\"\n",
    "\n",
    "# Read NDJSON\n",
    "df_fox8 = pd.read_json(path, lines=True, compression=\"gzip\")\n",
    "\n"
   ],
   "id": "3c0c7be5956acc56",
   "outputs": [],
   "execution_count": 4
  },
  {
   "metadata": {
    "ExecuteTime": {
     "end_time": "2025-09-04T11:47:44.583015Z",
     "start_time": "2025-09-04T11:47:44.289304Z"
    }
   },
   "cell_type": "code",
   "source": [
    "print(\"Shape of dataset:\", df_fox8.shape)\n",
    "df_fox8.head()"
   ],
   "id": "dda88e8233ad9729",
   "outputs": [
    {
     "name": "stdout",
     "output_type": "stream",
     "text": [
      "Shape of dataset: (2280, 4)\n"
     ]
    },
    {
     "data": {
      "text/plain": [
       "      user_id  label             dataset  \\\n",
       "0    16905397  human  botometer-feedback   \n",
       "1  2717053344  human  botometer-feedback   \n",
       "2   297051227  human  botometer-feedback   \n",
       "3   282275320  human  botometer-feedback   \n",
       "4  1663020151  human  botometer-feedback   \n",
       "\n",
       "                                         user_tweets  \n",
       "0  [{'contributors': None, 'truncated': True, 'te...  \n",
       "1  [{'contributors': None, 'truncated': False, 't...  \n",
       "2  [{'contributors': None, 'truncated': False, 't...  \n",
       "3  [{'contributors': None, 'truncated': False, 't...  \n",
       "4  [{'contributors': None, 'truncated': False, 't...  "
      ],
      "text/html": [
       "<div>\n",
       "<style scoped>\n",
       "    .dataframe tbody tr th:only-of-type {\n",
       "        vertical-align: middle;\n",
       "    }\n",
       "\n",
       "    .dataframe tbody tr th {\n",
       "        vertical-align: top;\n",
       "    }\n",
       "\n",
       "    .dataframe thead th {\n",
       "        text-align: right;\n",
       "    }\n",
       "</style>\n",
       "<table border=\"1\" class=\"dataframe\">\n",
       "  <thead>\n",
       "    <tr style=\"text-align: right;\">\n",
       "      <th></th>\n",
       "      <th>user_id</th>\n",
       "      <th>label</th>\n",
       "      <th>dataset</th>\n",
       "      <th>user_tweets</th>\n",
       "    </tr>\n",
       "  </thead>\n",
       "  <tbody>\n",
       "    <tr>\n",
       "      <th>0</th>\n",
       "      <td>16905397</td>\n",
       "      <td>human</td>\n",
       "      <td>botometer-feedback</td>\n",
       "      <td>[{'contributors': None, 'truncated': True, 'te...</td>\n",
       "    </tr>\n",
       "    <tr>\n",
       "      <th>1</th>\n",
       "      <td>2717053344</td>\n",
       "      <td>human</td>\n",
       "      <td>botometer-feedback</td>\n",
       "      <td>[{'contributors': None, 'truncated': False, 't...</td>\n",
       "    </tr>\n",
       "    <tr>\n",
       "      <th>2</th>\n",
       "      <td>297051227</td>\n",
       "      <td>human</td>\n",
       "      <td>botometer-feedback</td>\n",
       "      <td>[{'contributors': None, 'truncated': False, 't...</td>\n",
       "    </tr>\n",
       "    <tr>\n",
       "      <th>3</th>\n",
       "      <td>282275320</td>\n",
       "      <td>human</td>\n",
       "      <td>botometer-feedback</td>\n",
       "      <td>[{'contributors': None, 'truncated': False, 't...</td>\n",
       "    </tr>\n",
       "    <tr>\n",
       "      <th>4</th>\n",
       "      <td>1663020151</td>\n",
       "      <td>human</td>\n",
       "      <td>botometer-feedback</td>\n",
       "      <td>[{'contributors': None, 'truncated': False, 't...</td>\n",
       "    </tr>\n",
       "  </tbody>\n",
       "</table>\n",
       "</div>"
      ]
     },
     "execution_count": 3,
     "metadata": {},
     "output_type": "execute_result"
    }
   ],
   "execution_count": 3
  }
 ],
 "metadata": {
  "kernelspec": {
   "display_name": "Python 3",
   "language": "python",
   "name": "python3"
  },
  "language_info": {
   "codemirror_mode": {
    "name": "ipython",
    "version": 2
   },
   "file_extension": ".py",
   "mimetype": "text/x-python",
   "name": "python",
   "nbconvert_exporter": "python",
   "pygments_lexer": "ipython2",
   "version": "2.7.6"
  }
 },
 "nbformat": 4,
 "nbformat_minor": 5
}
